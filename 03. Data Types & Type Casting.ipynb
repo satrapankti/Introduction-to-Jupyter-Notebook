{
 "cells": [
  {
   "cell_type": "markdown",
   "id": "ddfaf57f",
   "metadata": {},
   "source": [
    "# DATA TYPES "
   ]
  },
  {
   "cell_type": "markdown",
   "id": "44f79bba",
   "metadata": {},
   "source": [
    "## 1. Integer (int)"
   ]
  },
  {
   "cell_type": "code",
   "execution_count": 1,
   "id": "4721cf65",
   "metadata": {},
   "outputs": [],
   "source": [
    "# any no. without decimals\n",
    "# eg. 1,25,100"
   ]
  },
  {
   "cell_type": "code",
   "execution_count": 5,
   "id": "5fa18d24",
   "metadata": {},
   "outputs": [],
   "source": [
    "x= 5"
   ]
  },
  {
   "cell_type": "code",
   "execution_count": 6,
   "id": "08f23692",
   "metadata": {},
   "outputs": [
    {
     "data": {
      "text/plain": [
       "int"
      ]
     },
     "execution_count": 6,
     "metadata": {},
     "output_type": "execute_result"
    }
   ],
   "source": [
    "type (x)"
   ]
  },
  {
   "cell_type": "code",
   "execution_count": 35,
   "id": "cdea3f85",
   "metadata": {},
   "outputs": [
    {
     "data": {
      "text/plain": [
       "5"
      ]
     },
     "execution_count": 35,
     "metadata": {},
     "output_type": "execute_result"
    }
   ],
   "source": [
    "int(5)"
   ]
  },
  {
   "cell_type": "markdown",
   "id": "8dba37db",
   "metadata": {},
   "source": [
    "## 2. Float (float)"
   ]
  },
  {
   "cell_type": "code",
   "execution_count": 3,
   "id": "b2ca27d7",
   "metadata": {},
   "outputs": [],
   "source": [
    "# any no. with decimals\n",
    "# eg. 2.5,66.9,300.05"
   ]
  },
  {
   "cell_type": "code",
   "execution_count": 42,
   "id": "6192b720",
   "metadata": {},
   "outputs": [],
   "source": [
    "y=8.9"
   ]
  },
  {
   "cell_type": "code",
   "execution_count": 43,
   "id": "f4effbac",
   "metadata": {},
   "outputs": [
    {
     "data": {
      "text/plain": [
       "float"
      ]
     },
     "execution_count": 43,
     "metadata": {},
     "output_type": "execute_result"
    }
   ],
   "source": [
    "type(y)"
   ]
  },
  {
   "cell_type": "code",
   "execution_count": 1,
   "id": "3d0cba8e",
   "metadata": {},
   "outputs": [
    {
     "data": {
      "text/plain": [
       "2.0"
      ]
     },
     "execution_count": 1,
     "metadata": {},
     "output_type": "execute_result"
    }
   ],
   "source": [
    "float(2)"
   ]
  },
  {
   "cell_type": "code",
   "execution_count": 2,
   "id": "a7ce8a73",
   "metadata": {},
   "outputs": [
    {
     "data": {
      "text/plain": [
       "22.5"
      ]
     },
     "execution_count": 2,
     "metadata": {},
     "output_type": "execute_result"
    }
   ],
   "source": [
    "float(22.5)"
   ]
  },
  {
   "cell_type": "markdown",
   "id": "b922636c",
   "metadata": {},
   "source": [
    "## 3. Complex (complex) "
   ]
  },
  {
   "cell_type": "code",
   "execution_count": 3,
   "id": "550db8cb",
   "metadata": {},
   "outputs": [],
   "source": [
    "# any no. with variable (except i)\n",
    "# eg. 3+4j,2j,9j-7"
   ]
  },
  {
   "cell_type": "code",
   "execution_count": 5,
   "id": "7cb1d912",
   "metadata": {},
   "outputs": [],
   "source": [
    "x=25+8j"
   ]
  },
  {
   "cell_type": "code",
   "execution_count": 6,
   "id": "d0f38d07",
   "metadata": {},
   "outputs": [
    {
     "data": {
      "text/plain": [
       "complex"
      ]
     },
     "execution_count": 6,
     "metadata": {},
     "output_type": "execute_result"
    }
   ],
   "source": [
    "type(x)"
   ]
  },
  {
   "cell_type": "code",
   "execution_count": 7,
   "id": "30a8c094",
   "metadata": {},
   "outputs": [
    {
     "data": {
      "text/plain": [
       "(5-1j)"
      ]
     },
     "execution_count": 7,
     "metadata": {},
     "output_type": "execute_result"
    }
   ],
   "source": [
    "complex(5-1j)"
   ]
  },
  {
   "cell_type": "markdown",
   "id": "80ca0187",
   "metadata": {},
   "source": [
    "## 4. Boolean (bool) "
   ]
  },
  {
   "cell_type": "code",
   "execution_count": 1,
   "id": "0c3c78a6",
   "metadata": {},
   "outputs": [],
   "source": [
    "# it should be True or False\n",
    "# first letter needs to be in CAPITAL"
   ]
  },
  {
   "cell_type": "code",
   "execution_count": 9,
   "id": "0a5fca91",
   "metadata": {},
   "outputs": [],
   "source": [
    "x=True"
   ]
  },
  {
   "cell_type": "code",
   "execution_count": 10,
   "id": "44aeb26a",
   "metadata": {},
   "outputs": [
    {
     "data": {
      "text/plain": [
       "bool"
      ]
     },
     "execution_count": 10,
     "metadata": {},
     "output_type": "execute_result"
    }
   ],
   "source": [
    "type(x)"
   ]
  },
  {
   "cell_type": "code",
   "execution_count": 11,
   "id": "449bb5f8",
   "metadata": {},
   "outputs": [
    {
     "data": {
      "text/plain": [
       "False"
      ]
     },
     "execution_count": 11,
     "metadata": {},
     "output_type": "execute_result"
    }
   ],
   "source": [
    "bool(False)"
   ]
  },
  {
   "cell_type": "markdown",
   "id": "bbc15d01",
   "metadata": {},
   "source": [
    "## 5. String (str)"
   ]
  },
  {
   "cell_type": "code",
   "execution_count": 12,
   "id": "5830417b",
   "metadata": {},
   "outputs": [],
   "source": [
    "# any code in \"\" i.e. quotation marks \n",
    "# it could be any of the above\n",
    "# eg. \"hello\",\"True\",\"66.7\""
   ]
  },
  {
   "cell_type": "code",
   "execution_count": 13,
   "id": "3365aa01",
   "metadata": {},
   "outputs": [],
   "source": [
    "x=\"hey\""
   ]
  },
  {
   "cell_type": "code",
   "execution_count": 14,
   "id": "a789fd17",
   "metadata": {},
   "outputs": [
    {
     "data": {
      "text/plain": [
       "str"
      ]
     },
     "execution_count": 14,
     "metadata": {},
     "output_type": "execute_result"
    }
   ],
   "source": [
    "type(x)"
   ]
  },
  {
   "cell_type": "code",
   "execution_count": 15,
   "id": "f07f20d0",
   "metadata": {},
   "outputs": [
    {
     "data": {
      "text/plain": [
       "'45.9'"
      ]
     },
     "execution_count": 15,
     "metadata": {},
     "output_type": "execute_result"
    }
   ],
   "source": [
    "str(45.9)"
   ]
  },
  {
   "cell_type": "markdown",
   "id": "693765e5",
   "metadata": {},
   "source": [
    "## 6. List "
   ]
  },
  {
   "cell_type": "code",
   "execution_count": 16,
   "id": "961b90f4",
   "metadata": {},
   "outputs": [],
   "source": [
    "# any code in [] i.e square brackets\n",
    "# eg.[1,2.5,\"hey\"]"
   ]
  },
  {
   "cell_type": "code",
   "execution_count": 52,
   "id": "2ad6afa7",
   "metadata": {},
   "outputs": [],
   "source": [
    "x=[6,89.7,\"jupyter\"]"
   ]
  },
  {
   "cell_type": "code",
   "execution_count": 38,
   "id": "1357c305",
   "metadata": {},
   "outputs": [
    {
     "data": {
      "text/plain": [
       "list"
      ]
     },
     "execution_count": 38,
     "metadata": {},
     "output_type": "execute_result"
    }
   ],
   "source": [
    "type(x)"
   ]
  },
  {
   "cell_type": "code",
   "execution_count": 53,
   "id": "d746da2f",
   "metadata": {},
   "outputs": [
    {
     "data": {
      "text/plain": [
       "[6, 89.7, 'jupyter']"
      ]
     },
     "execution_count": 53,
     "metadata": {},
     "output_type": "execute_result"
    }
   ],
   "source": [
    "x"
   ]
  },
  {
   "cell_type": "markdown",
   "id": "72ace3f5",
   "metadata": {},
   "source": [
    "## 7. Tuple"
   ]
  },
  {
   "cell_type": "code",
   "execution_count": 42,
   "id": "3e1f2074",
   "metadata": {},
   "outputs": [],
   "source": [
    "# any code in () i.e. circle brackets\n",
    "# eg. (2,6,1,\"list\")"
   ]
  },
  {
   "cell_type": "code",
   "execution_count": 48,
   "id": "5a129f33",
   "metadata": {},
   "outputs": [],
   "source": [
    "x=(86,74.9,\"tip\")"
   ]
  },
  {
   "cell_type": "code",
   "execution_count": 49,
   "id": "336eac3a",
   "metadata": {},
   "outputs": [
    {
     "data": {
      "text/plain": [
       "tuple"
      ]
     },
     "execution_count": 49,
     "metadata": {},
     "output_type": "execute_result"
    }
   ],
   "source": [
    "type(x)"
   ]
  },
  {
   "cell_type": "code",
   "execution_count": 50,
   "id": "75d2b257",
   "metadata": {},
   "outputs": [
    {
     "data": {
      "text/plain": [
       "(86, 74.9, 'tip')"
      ]
     },
     "execution_count": 50,
     "metadata": {},
     "output_type": "execute_result"
    }
   ],
   "source": [
    "x"
   ]
  },
  {
   "cell_type": "markdown",
   "id": "071f85bf",
   "metadata": {},
   "source": [
    "## 8. Set  "
   ]
  },
  {
   "cell_type": "code",
   "execution_count": 54,
   "id": "4ff01471",
   "metadata": {},
   "outputs": [],
   "source": [
    "# any code in {} i.e. curly brackets\n",
    "# eg. {39.8,\"hola\"}"
   ]
  },
  {
   "cell_type": "code",
   "execution_count": 55,
   "id": "f07a3387",
   "metadata": {},
   "outputs": [],
   "source": [
    "x={77,88.8,\"great\"}"
   ]
  },
  {
   "cell_type": "code",
   "execution_count": 56,
   "id": "7f8d962b",
   "metadata": {},
   "outputs": [
    {
     "data": {
      "text/plain": [
       "set"
      ]
     },
     "execution_count": 56,
     "metadata": {},
     "output_type": "execute_result"
    }
   ],
   "source": [
    "type(x)"
   ]
  },
  {
   "cell_type": "code",
   "execution_count": 57,
   "id": "40f6f5bc",
   "metadata": {},
   "outputs": [
    {
     "data": {
      "text/plain": [
       "{77, 88.8, 'great'}"
      ]
     },
     "execution_count": 57,
     "metadata": {},
     "output_type": "execute_result"
    }
   ],
   "source": [
    "x"
   ]
  },
  {
   "cell_type": "markdown",
   "id": "4e8f3ab0",
   "metadata": {},
   "source": [
    "## 9. Dictionery"
   ]
  },
  {
   "cell_type": "code",
   "execution_count": 2,
   "id": "e5a2986b",
   "metadata": {},
   "outputs": [],
   "source": [
    "# any code in curly brackets with KEY and VALUE\n",
    "# eg.{\"blue\":1,\"red\":2} where blue& red is KEY and 1&2 is VALUE\n",
    "# note: key should be in quotations\"\" after it colon: is must and for next list comma, is required\n",
    "# dict{\"key\":value}"
   ]
  },
  {
   "cell_type": "code",
   "execution_count": 1,
   "id": "0a12f362",
   "metadata": {},
   "outputs": [],
   "source": [
    "x={\"hello\":1,\"hi\":2}"
   ]
  },
  {
   "cell_type": "code",
   "execution_count": 2,
   "id": "0305b5ad",
   "metadata": {},
   "outputs": [
    {
     "data": {
      "text/plain": [
       "dict"
      ]
     },
     "execution_count": 2,
     "metadata": {},
     "output_type": "execute_result"
    }
   ],
   "source": [
    "type(x)"
   ]
  },
  {
   "cell_type": "code",
   "execution_count": 3,
   "id": "1f0988d6",
   "metadata": {},
   "outputs": [
    {
     "data": {
      "text/plain": [
       "{'hello': 1, 'hi': 2}"
      ]
     },
     "execution_count": 3,
     "metadata": {},
     "output_type": "execute_result"
    }
   ],
   "source": [
    "x"
   ]
  },
  {
   "cell_type": "markdown",
   "id": "a6f95107",
   "metadata": {},
   "source": [
    " ### To find the data type of a code type --->  type(Var) "
   ]
  },
  {
   "cell_type": "markdown",
   "id": "796c75c2",
   "metadata": {},
   "source": [
    "# TYPE CASTING "
   ]
  },
  {
   "cell_type": "markdown",
   "id": "9987b7e4",
   "metadata": {},
   "source": [
    "#####  integer -> float -> string (in the same order)"
   ]
  },
  {
   "cell_type": "code",
   "execution_count": 4,
   "id": "c31eab19",
   "metadata": {},
   "outputs": [],
   "source": [
    "# float no. in a  int , it will not round off"
   ]
  },
  {
   "cell_type": "code",
   "execution_count": 5,
   "id": "558d41b8",
   "metadata": {},
   "outputs": [
    {
     "data": {
      "text/plain": [
       "12"
      ]
     },
     "execution_count": 5,
     "metadata": {},
     "output_type": "execute_result"
    }
   ],
   "source": [
    "int(12.5)"
   ]
  },
  {
   "cell_type": "code",
   "execution_count": 6,
   "id": "67ed13c4",
   "metadata": {},
   "outputs": [],
   "source": [
    "# int no. -> float, will convert to decimal"
   ]
  },
  {
   "cell_type": "code",
   "execution_count": 7,
   "id": "8c5e194b",
   "metadata": {},
   "outputs": [
    {
     "data": {
      "text/plain": [
       "12.0"
      ]
     },
     "execution_count": 7,
     "metadata": {},
     "output_type": "execute_result"
    }
   ],
   "source": [
    "float(12)"
   ]
  },
  {
   "cell_type": "code",
   "execution_count": 16,
   "id": "a136297e",
   "metadata": {},
   "outputs": [],
   "source": [
    "# float no. in a str , will remain same"
   ]
  },
  {
   "cell_type": "code",
   "execution_count": 17,
   "id": "1b438211",
   "metadata": {},
   "outputs": [
    {
     "data": {
      "text/plain": [
       "12.0"
      ]
     },
     "execution_count": 17,
     "metadata": {},
     "output_type": "execute_result"
    }
   ],
   "source": [
    "float(\"12\")"
   ]
  },
  {
   "cell_type": "code",
   "execution_count": 10,
   "id": "c86ee426",
   "metadata": {},
   "outputs": [],
   "source": [
    "# int no. in a str ,will remain same"
   ]
  },
  {
   "cell_type": "code",
   "execution_count": 11,
   "id": "08c0eb4e",
   "metadata": {},
   "outputs": [
    {
     "data": {
      "text/plain": [
       "12"
      ]
     },
     "execution_count": 11,
     "metadata": {},
     "output_type": "execute_result"
    }
   ],
   "source": [
    "int(\"12\")"
   ]
  },
  {
   "cell_type": "code",
   "execution_count": 12,
   "id": "bcc76e41",
   "metadata": {},
   "outputs": [],
   "source": [
    "# int no. -> str"
   ]
  },
  {
   "cell_type": "code",
   "execution_count": 13,
   "id": "fc169027",
   "metadata": {},
   "outputs": [
    {
     "data": {
      "text/plain": [
       "'12'"
      ]
     },
     "execution_count": 13,
     "metadata": {},
     "output_type": "execute_result"
    }
   ],
   "source": [
    "str(\"12\")"
   ]
  },
  {
   "cell_type": "code",
   "execution_count": 14,
   "id": "9e85fe26",
   "metadata": {},
   "outputs": [],
   "source": [
    "# float no. -> str"
   ]
  },
  {
   "cell_type": "code",
   "execution_count": 15,
   "id": "dbec1d87",
   "metadata": {},
   "outputs": [
    {
     "data": {
      "text/plain": [
       "'12.5'"
      ]
     },
     "execution_count": 15,
     "metadata": {},
     "output_type": "execute_result"
    }
   ],
   "source": [
    "str(\"12.5\")"
   ]
  },
  {
   "cell_type": "code",
   "execution_count": 18,
   "id": "916fdc3e",
   "metadata": {},
   "outputs": [],
   "source": [
    "# a str will never be converted into int or float i.e any words or letter only possible by numbers it is irriversible"
   ]
  },
  {
   "cell_type": "code",
   "execution_count": 22,
   "id": "4877a599",
   "metadata": {},
   "outputs": [],
   "source": [
    "# to convert int into str ->>"
   ]
  },
  {
   "cell_type": "code",
   "execution_count": 27,
   "id": "a9c6c63a",
   "metadata": {},
   "outputs": [
    {
     "data": {
      "text/plain": [
       "12"
      ]
     },
     "execution_count": 27,
     "metadata": {},
     "output_type": "execute_result"
    }
   ],
   "source": [
    "int(float(\"12.5\"))"
   ]
  },
  {
   "cell_type": "code",
   "execution_count": 28,
   "id": "4e6f3db1",
   "metadata": {},
   "outputs": [
    {
     "data": {
      "text/plain": [
       "int"
      ]
     },
     "execution_count": 28,
     "metadata": {},
     "output_type": "execute_result"
    }
   ],
   "source": [
    "type(int(float(\"12.5\")))"
   ]
  }
 ],
 "metadata": {
  "kernelspec": {
   "display_name": "Python 3",
   "language": "python",
   "name": "python3"
  },
  "language_info": {
   "codemirror_mode": {
    "name": "ipython",
    "version": 3
   },
   "file_extension": ".py",
   "mimetype": "text/x-python",
   "name": "python",
   "nbconvert_exporter": "python",
   "pygments_lexer": "ipython3",
   "version": "3.8.8"
  }
 },
 "nbformat": 4,
 "nbformat_minor": 5
}
