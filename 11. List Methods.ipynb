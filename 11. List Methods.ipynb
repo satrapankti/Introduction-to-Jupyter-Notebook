{
 "cells": [
  {
   "cell_type": "markdown",
   "id": "c527825a",
   "metadata": {},
   "source": [
    "# LIST METHODS "
   ]
  },
  {
   "cell_type": "markdown",
   "id": "7bf13720",
   "metadata": {},
   "source": [
    "## 1. APPEND"
   ]
  },
  {
   "cell_type": "code",
   "execution_count": 1,
   "id": "8b00c2e1",
   "metadata": {},
   "outputs": [],
   "source": [
    "# to add any one element at the end of list\n",
    "# you need to type ->> list.append(_)\n",
    "# if you type more than one element in the list it wont execute and show syntax error \n",
    "# you can add more than 1 element but it will be executed as a list only ->> list.append([_])"
   ]
  },
  {
   "cell_type": "code",
   "execution_count": 1,
   "id": "e5673db2",
   "metadata": {},
   "outputs": [],
   "source": [
    "a=[1,22,333,5,9,56,89,69,72,43,1,22,69]"
   ]
  },
  {
   "cell_type": "code",
   "execution_count": 28,
   "id": "b2454f3c",
   "metadata": {},
   "outputs": [],
   "source": [
    "a.append(\"girl\")"
   ]
  },
  {
   "cell_type": "code",
   "execution_count": 29,
   "id": "3529756a",
   "metadata": {},
   "outputs": [
    {
     "data": {
      "text/plain": [
       "[1, 22, 333, 5, 9, 56, 89, 69, 72, 43, 1, 22, 69, 'girl']"
      ]
     },
     "execution_count": 29,
     "metadata": {},
     "output_type": "execute_result"
    }
   ],
   "source": [
    "a"
   ]
  },
  {
   "cell_type": "code",
   "execution_count": 30,
   "id": "31c2b949",
   "metadata": {},
   "outputs": [],
   "source": [
    "a.append([10,20])"
   ]
  },
  {
   "cell_type": "code",
   "execution_count": 31,
   "id": "c7701f16",
   "metadata": {},
   "outputs": [
    {
     "data": {
      "text/plain": [
       "[1, 22, 333, 5, 9, 56, 89, 69, 72, 43, 1, 22, 69, 'girl', [10, 20]]"
      ]
     },
     "execution_count": 31,
     "metadata": {},
     "output_type": "execute_result"
    }
   ],
   "source": [
    "a"
   ]
  },
  {
   "cell_type": "markdown",
   "id": "05e07696",
   "metadata": {},
   "source": [
    "## 2. EXTEND"
   ]
  },
  {
   "cell_type": "code",
   "execution_count": 33,
   "id": "ad9f46ed",
   "metadata": {},
   "outputs": [],
   "source": [
    "# to add more than one element in the end of the list\n",
    "# you need to type ->> list.extend(_)\n",
    "# you can also merge 2 lists but it will only add to the last of previous list by ->> list1.extend(list2)"
   ]
  },
  {
   "cell_type": "code",
   "execution_count": 67,
   "id": "e807354e",
   "metadata": {},
   "outputs": [],
   "source": [
    "a=[1,22,333,5,69,72,43,1,22,69]"
   ]
  },
  {
   "cell_type": "code",
   "execution_count": 68,
   "id": "540f202d",
   "metadata": {},
   "outputs": [],
   "source": [
    "a.extend([20,30,70,90])"
   ]
  },
  {
   "cell_type": "code",
   "execution_count": 69,
   "id": "8420dd6b",
   "metadata": {},
   "outputs": [
    {
     "data": {
      "text/plain": [
       "[1, 22, 333, 5, 69, 72, 43, 1, 22, 69, 20, 30, 70, 90]"
      ]
     },
     "execution_count": 69,
     "metadata": {},
     "output_type": "execute_result"
    }
   ],
   "source": [
    "a"
   ]
  },
  {
   "cell_type": "code",
   "execution_count": 70,
   "id": "3c3d913b",
   "metadata": {},
   "outputs": [],
   "source": [
    "b=[\"list\",\"extend\"]"
   ]
  },
  {
   "cell_type": "code",
   "execution_count": 71,
   "id": "15f90af9",
   "metadata": {},
   "outputs": [],
   "source": [
    "a.extend(b)"
   ]
  },
  {
   "cell_type": "code",
   "execution_count": 72,
   "id": "153e9543",
   "metadata": {},
   "outputs": [
    {
     "data": {
      "text/plain": [
       "[1, 22, 333, 5, 69, 72, 43, 1, 22, 69, 20, 30, 70, 90, 'list', 'extend']"
      ]
     },
     "execution_count": 72,
     "metadata": {},
     "output_type": "execute_result"
    }
   ],
   "source": [
    "a"
   ]
  },
  {
   "cell_type": "markdown",
   "id": "3452473e",
   "metadata": {},
   "source": [
    "## 3. INSERT"
   ]
  },
  {
   "cell_type": "code",
   "execution_count": 73,
   "id": "3726b5cd",
   "metadata": {},
   "outputs": [],
   "source": [
    "# to insert any element at a specific index\n",
    "# you need to type ->> list.instert(_,_) where 1st is for at which index to add and 2nd one is for the element to be added"
   ]
  },
  {
   "cell_type": "code",
   "execution_count": 85,
   "id": "27320ec5",
   "metadata": {},
   "outputs": [],
   "source": [
    "a=[1,22,333,5,9,56,89,69,72,43,1,22,69]"
   ]
  },
  {
   "cell_type": "code",
   "execution_count": 86,
   "id": "cb755065",
   "metadata": {},
   "outputs": [],
   "source": [
    "a.insert(3,800)"
   ]
  },
  {
   "cell_type": "code",
   "execution_count": 87,
   "id": "1972ec9a",
   "metadata": {},
   "outputs": [
    {
     "data": {
      "text/plain": [
       "[1, 22, 333, 800, 5, 9, 56, 89, 69, 72, 43, 1, 22, 69]"
      ]
     },
     "execution_count": 87,
     "metadata": {},
     "output_type": "execute_result"
    }
   ],
   "source": [
    "a"
   ]
  },
  {
   "cell_type": "code",
   "execution_count": 88,
   "id": "fef86a49",
   "metadata": {},
   "outputs": [],
   "source": [
    "a.insert(-1,500)"
   ]
  },
  {
   "cell_type": "code",
   "execution_count": 89,
   "id": "b3aa266f",
   "metadata": {},
   "outputs": [
    {
     "data": {
      "text/plain": [
       "[1, 22, 333, 800, 5, 9, 56, 89, 69, 72, 43, 1, 22, 500, 69]"
      ]
     },
     "execution_count": 89,
     "metadata": {},
     "output_type": "execute_result"
    }
   ],
   "source": [
    "a"
   ]
  },
  {
   "cell_type": "markdown",
   "id": "34d3661b",
   "metadata": {},
   "source": [
    "## 4. POP"
   ]
  },
  {
   "cell_type": "code",
   "execution_count": 97,
   "id": "80d24320",
   "metadata": {},
   "outputs": [],
   "source": [
    "# it is used to remove any element from the list as per given index\n",
    "# you need to type ->> list.pop(_)\n",
    "# if you keep the pop empty the last element will be deleted\n",
    "# if you want to remove any specific element then add the index in the pop at which it is located\n",
    "# if you specify the index you will get the element as the result when you execute the code"
   ]
  },
  {
   "cell_type": "code",
   "execution_count": 91,
   "id": "1881bfa4",
   "metadata": {},
   "outputs": [],
   "source": [
    "a=[1,22,333,5,9,56,89,69,72,43,1,22,69]"
   ]
  },
  {
   "cell_type": "code",
   "execution_count": 92,
   "id": "1769fc56",
   "metadata": {},
   "outputs": [
    {
     "data": {
      "text/plain": [
       "69"
      ]
     },
     "execution_count": 92,
     "metadata": {},
     "output_type": "execute_result"
    }
   ],
   "source": [
    "a.pop()"
   ]
  },
  {
   "cell_type": "code",
   "execution_count": 93,
   "id": "fcce5fcc",
   "metadata": {},
   "outputs": [
    {
     "data": {
      "text/plain": [
       "[1, 22, 333, 5, 9, 56, 89, 69, 72, 43, 1, 22]"
      ]
     },
     "execution_count": 93,
     "metadata": {},
     "output_type": "execute_result"
    }
   ],
   "source": [
    "a"
   ]
  },
  {
   "cell_type": "code",
   "execution_count": 94,
   "id": "726b6358",
   "metadata": {},
   "outputs": [
    {
     "data": {
      "text/plain": [
       "89"
      ]
     },
     "execution_count": 94,
     "metadata": {},
     "output_type": "execute_result"
    }
   ],
   "source": [
    "a.pop(6)"
   ]
  },
  {
   "cell_type": "code",
   "execution_count": 95,
   "id": "414581de",
   "metadata": {},
   "outputs": [
    {
     "data": {
      "text/plain": [
       "[1, 22, 333, 5, 9, 56, 69, 72, 43, 1, 22]"
      ]
     },
     "execution_count": 95,
     "metadata": {},
     "output_type": "execute_result"
    }
   ],
   "source": [
    "a"
   ]
  },
  {
   "cell_type": "markdown",
   "id": "233ac6f1",
   "metadata": {},
   "source": [
    "## 5. REMOVE"
   ]
  },
  {
   "cell_type": "code",
   "execution_count": 98,
   "id": "af0d37b9",
   "metadata": {},
   "outputs": [],
   "source": [
    "# it is used to remove any value of element from the list \n",
    "# you need to type ->> list.remove(_)\n",
    "# it will remove the only 1st value as per ascending order"
   ]
  },
  {
   "cell_type": "code",
   "execution_count": null,
   "id": "227cad45",
   "metadata": {},
   "outputs": [],
   "source": [
    "a=[1,22,333,5,9,56,89,69,72,43,1,22,69]"
   ]
  },
  {
   "cell_type": "code",
   "execution_count": 99,
   "id": "63314c38",
   "metadata": {},
   "outputs": [],
   "source": [
    "a.remove(1)"
   ]
  },
  {
   "cell_type": "code",
   "execution_count": 100,
   "id": "5697fa96",
   "metadata": {},
   "outputs": [
    {
     "data": {
      "text/plain": [
       "[22, 333, 5, 9, 56, 69, 72, 43, 1, 22]"
      ]
     },
     "execution_count": 100,
     "metadata": {},
     "output_type": "execute_result"
    }
   ],
   "source": [
    "a"
   ]
  },
  {
   "cell_type": "code",
   "execution_count": 101,
   "id": "e3713c2d",
   "metadata": {},
   "outputs": [],
   "source": [
    "a.remove(9)"
   ]
  },
  {
   "cell_type": "code",
   "execution_count": 102,
   "id": "32031da5",
   "metadata": {},
   "outputs": [
    {
     "data": {
      "text/plain": [
       "[22, 333, 5, 56, 69, 72, 43, 1, 22]"
      ]
     },
     "execution_count": 102,
     "metadata": {},
     "output_type": "execute_result"
    }
   ],
   "source": [
    "a"
   ]
  },
  {
   "cell_type": "markdown",
   "id": "4200efb1",
   "metadata": {},
   "source": [
    "## 6. COUNT"
   ]
  },
  {
   "cell_type": "code",
   "execution_count": 103,
   "id": "01db7864",
   "metadata": {},
   "outputs": [],
   "source": [
    "# it is used to count the no. of times the element is repeated\n",
    "# you need to type ->> list.count(_)\n",
    "# it should include the value of the element\n",
    "# if you type a value which is not in the list it will execute as 0"
   ]
  },
  {
   "cell_type": "code",
   "execution_count": 104,
   "id": "b7d777aa",
   "metadata": {},
   "outputs": [],
   "source": [
    "a=[1,22,333,1,5,9,56,1,89,69,1,72,43,1,22,69]"
   ]
  },
  {
   "cell_type": "code",
   "execution_count": 105,
   "id": "03637f06",
   "metadata": {},
   "outputs": [
    {
     "data": {
      "text/plain": [
       "5"
      ]
     },
     "execution_count": 105,
     "metadata": {},
     "output_type": "execute_result"
    }
   ],
   "source": [
    "a.count(1)"
   ]
  },
  {
   "cell_type": "code",
   "execution_count": 106,
   "id": "e05451f6",
   "metadata": {},
   "outputs": [
    {
     "data": {
      "text/plain": [
       "0"
      ]
     },
     "execution_count": 106,
     "metadata": {},
     "output_type": "execute_result"
    }
   ],
   "source": [
    "a.count(100)"
   ]
  },
  {
   "cell_type": "markdown",
   "id": "2a88e810",
   "metadata": {},
   "source": [
    "## 7. INDEX"
   ]
  },
  {
   "cell_type": "code",
   "execution_count": 107,
   "id": "c581fa37",
   "metadata": {},
   "outputs": [],
   "source": [
    "# it is used to determine the position or at which index is the value located\n",
    "# but it will give index of the 1st value only and not the repeated one\n",
    "# you need to type ->> list.index(_)"
   ]
  },
  {
   "cell_type": "code",
   "execution_count": 109,
   "id": "2513d10b",
   "metadata": {},
   "outputs": [],
   "source": [
    "a=[1,22,333,5,9,56,89,69,72,43,1,22,69]"
   ]
  },
  {
   "cell_type": "code",
   "execution_count": 110,
   "id": "b1f3a000",
   "metadata": {},
   "outputs": [
    {
     "data": {
      "text/plain": [
       "7"
      ]
     },
     "execution_count": 110,
     "metadata": {},
     "output_type": "execute_result"
    }
   ],
   "source": [
    "a.index(69)"
   ]
  },
  {
   "cell_type": "markdown",
   "id": "ced507a0",
   "metadata": {},
   "source": [
    "## 8. REVERSE"
   ]
  },
  {
   "cell_type": "code",
   "execution_count": 113,
   "id": "5324ce4f",
   "metadata": {},
   "outputs": [],
   "source": [
    "# it is used to reverse the whole list\n",
    "# you need to type ->> list.reverse()\n",
    "# alternatively you can ->> list[::-1]"
   ]
  },
  {
   "cell_type": "code",
   "execution_count": 114,
   "id": "9a2123ed",
   "metadata": {},
   "outputs": [],
   "source": [
    "a=[1,22,333,5,9,56,89,69,72,43,1,22,69]"
   ]
  },
  {
   "cell_type": "code",
   "execution_count": 115,
   "id": "7451a511",
   "metadata": {},
   "outputs": [],
   "source": [
    "a.reverse()"
   ]
  },
  {
   "cell_type": "code",
   "execution_count": 116,
   "id": "3d065b5d",
   "metadata": {},
   "outputs": [
    {
     "data": {
      "text/plain": [
       "[69, 22, 1, 43, 72, 69, 89, 56, 9, 5, 333, 22, 1]"
      ]
     },
     "execution_count": 116,
     "metadata": {},
     "output_type": "execute_result"
    }
   ],
   "source": [
    "a"
   ]
  },
  {
   "cell_type": "code",
   "execution_count": 118,
   "id": "2af13479",
   "metadata": {},
   "outputs": [
    {
     "data": {
      "text/plain": [
       "[1, 22, 333, 5, 9, 56, 89, 69, 72, 43, 1, 22, 69]"
      ]
     },
     "execution_count": 118,
     "metadata": {},
     "output_type": "execute_result"
    }
   ],
   "source": [
    "a[::-1]"
   ]
  },
  {
   "cell_type": "markdown",
   "id": "c470fad1",
   "metadata": {},
   "source": [
    "## 9. SORT"
   ]
  },
  {
   "cell_type": "code",
   "execution_count": 119,
   "id": "fd8a02ad",
   "metadata": {},
   "outputs": [],
   "source": [
    "# it is used to sort the list in ascending i.e increasing order \n",
    "# you need to type ->> list.sort()\n",
    "# if you want in reverse pattern i.e in decending or decreasing order \n",
    "# you need to type ->> list.sort(reverse=True)"
   ]
  },
  {
   "cell_type": "code",
   "execution_count": 120,
   "id": "d122ea2e",
   "metadata": {},
   "outputs": [],
   "source": [
    "a=[1,22,333,5,9,56,89,69,72,43,1,22,69]"
   ]
  },
  {
   "cell_type": "code",
   "execution_count": 121,
   "id": "666e1109",
   "metadata": {},
   "outputs": [],
   "source": [
    "a.sort()"
   ]
  },
  {
   "cell_type": "code",
   "execution_count": 122,
   "id": "90392be2",
   "metadata": {},
   "outputs": [
    {
     "data": {
      "text/plain": [
       "[1, 1, 5, 9, 22, 22, 43, 56, 69, 69, 72, 89, 333]"
      ]
     },
     "execution_count": 122,
     "metadata": {},
     "output_type": "execute_result"
    }
   ],
   "source": [
    "a"
   ]
  },
  {
   "cell_type": "code",
   "execution_count": 123,
   "id": "72771a67",
   "metadata": {},
   "outputs": [],
   "source": [
    "a.sort(reverse=True)"
   ]
  },
  {
   "cell_type": "code",
   "execution_count": 124,
   "id": "2d81b80b",
   "metadata": {},
   "outputs": [
    {
     "data": {
      "text/plain": [
       "[333, 89, 72, 69, 69, 56, 43, 22, 22, 9, 5, 1, 1]"
      ]
     },
     "execution_count": 124,
     "metadata": {},
     "output_type": "execute_result"
    }
   ],
   "source": [
    "a"
   ]
  },
  {
   "cell_type": "markdown",
   "id": "73d97fbb",
   "metadata": {},
   "source": [
    "## 10. LENGTH"
   ]
  },
  {
   "cell_type": "code",
   "execution_count": 125,
   "id": "3227f550",
   "metadata": {},
   "outputs": [],
   "source": [
    "# to find the length or the total no. of elements in the list type ->> len(l_) it is in circle brackets"
   ]
  },
  {
   "cell_type": "code",
   "execution_count": 126,
   "id": "dca0143e",
   "metadata": {},
   "outputs": [],
   "source": [
    "a=[1,22,333,5,9,56,89,69,72,43,1,22,69]"
   ]
  },
  {
   "cell_type": "code",
   "execution_count": 127,
   "id": "23506ef0",
   "metadata": {},
   "outputs": [
    {
     "data": {
      "text/plain": [
       "13"
      ]
     },
     "execution_count": 127,
     "metadata": {},
     "output_type": "execute_result"
    }
   ],
   "source": [
    "len(a)"
   ]
  }
 ],
 "metadata": {
  "kernelspec": {
   "display_name": "Python 3",
   "language": "python",
   "name": "python3"
  },
  "language_info": {
   "codemirror_mode": {
    "name": "ipython",
    "version": 3
   },
   "file_extension": ".py",
   "mimetype": "text/x-python",
   "name": "python",
   "nbconvert_exporter": "python",
   "pygments_lexer": "ipython3",
   "version": "3.8.8"
  }
 },
 "nbformat": 4,
 "nbformat_minor": 5
}
