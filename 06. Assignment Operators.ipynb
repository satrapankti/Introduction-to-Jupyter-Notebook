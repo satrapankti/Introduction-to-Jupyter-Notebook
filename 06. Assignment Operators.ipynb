{
 "cells": [
  {
   "cell_type": "markdown",
   "id": "fb3aea3b",
   "metadata": {},
   "source": [
    "#  ASSIGNMENT OPERATORS"
   ]
  },
  {
   "cell_type": "code",
   "execution_count": 1,
   "id": "4e85e81b",
   "metadata": {},
   "outputs": [],
   "source": [
    "# it is used to assign a value to a variable."
   ]
  },
  {
   "cell_type": "markdown",
   "id": "c29fde69",
   "metadata": {},
   "source": [
    "## 1. Equals to "
   ]
  },
  {
   "cell_type": "code",
   "execution_count": 2,
   "id": "c652b25c",
   "metadata": {},
   "outputs": [],
   "source": [
    "x=5"
   ]
  },
  {
   "cell_type": "markdown",
   "id": "4db40a6d",
   "metadata": {},
   "source": [
    "## 2. Addition"
   ]
  },
  {
   "cell_type": "code",
   "execution_count": 1,
   "id": "85ea932e",
   "metadata": {},
   "outputs": [],
   "source": [
    "# the operation ->> x=x+10 can also be written as ->> x+=10"
   ]
  },
  {
   "cell_type": "code",
   "execution_count": 2,
   "id": "a05d683c",
   "metadata": {},
   "outputs": [],
   "source": [
    "x=5"
   ]
  },
  {
   "cell_type": "code",
   "execution_count": 3,
   "id": "2af03713",
   "metadata": {},
   "outputs": [],
   "source": [
    "x+=10"
   ]
  },
  {
   "cell_type": "code",
   "execution_count": 4,
   "id": "ecba46a0",
   "metadata": {},
   "outputs": [
    {
     "data": {
      "text/plain": [
       "15"
      ]
     },
     "execution_count": 4,
     "metadata": {},
     "output_type": "execute_result"
    }
   ],
   "source": [
    "x"
   ]
  },
  {
   "cell_type": "markdown",
   "id": "0b50c167",
   "metadata": {},
   "source": [
    "## 3. Subtraction"
   ]
  },
  {
   "cell_type": "code",
   "execution_count": 5,
   "id": "dea85173",
   "metadata": {},
   "outputs": [],
   "source": [
    "# the operation ->> x=x-10 can also be written as ->> x-=10"
   ]
  },
  {
   "cell_type": "code",
   "execution_count": 6,
   "id": "faf5be26",
   "metadata": {},
   "outputs": [],
   "source": [
    "x=5"
   ]
  },
  {
   "cell_type": "code",
   "execution_count": 7,
   "id": "528b2934",
   "metadata": {},
   "outputs": [],
   "source": [
    "x-=10"
   ]
  },
  {
   "cell_type": "code",
   "execution_count": 8,
   "id": "061b99b0",
   "metadata": {},
   "outputs": [
    {
     "data": {
      "text/plain": [
       "-5"
      ]
     },
     "execution_count": 8,
     "metadata": {},
     "output_type": "execute_result"
    }
   ],
   "source": [
    "x"
   ]
  },
  {
   "cell_type": "markdown",
   "id": "95cbc940",
   "metadata": {},
   "source": [
    "## 4. Multiplication"
   ]
  },
  {
   "cell_type": "code",
   "execution_count": 9,
   "id": "1df16525",
   "metadata": {},
   "outputs": [],
   "source": [
    "# the operation ->> x=x*10 can also be written as ->> x*=10"
   ]
  },
  {
   "cell_type": "code",
   "execution_count": 10,
   "id": "972803f3",
   "metadata": {},
   "outputs": [],
   "source": [
    "x=5"
   ]
  },
  {
   "cell_type": "code",
   "execution_count": 11,
   "id": "5d5b0db0",
   "metadata": {},
   "outputs": [],
   "source": [
    "x*=10"
   ]
  },
  {
   "cell_type": "code",
   "execution_count": 12,
   "id": "6628fa7c",
   "metadata": {},
   "outputs": [
    {
     "data": {
      "text/plain": [
       "50"
      ]
     },
     "execution_count": 12,
     "metadata": {},
     "output_type": "execute_result"
    }
   ],
   "source": [
    "x"
   ]
  },
  {
   "cell_type": "markdown",
   "id": "1d598b0b",
   "metadata": {},
   "source": [
    "## 5. Division"
   ]
  },
  {
   "cell_type": "code",
   "execution_count": 13,
   "id": "e3a56ed0",
   "metadata": {},
   "outputs": [],
   "source": [
    "# the operation ->> x=x/10 can also be written as ->> x/=10"
   ]
  },
  {
   "cell_type": "code",
   "execution_count": 14,
   "id": "62cce243",
   "metadata": {},
   "outputs": [],
   "source": [
    "x=5"
   ]
  },
  {
   "cell_type": "code",
   "execution_count": 15,
   "id": "a1afe499",
   "metadata": {},
   "outputs": [],
   "source": [
    "x/=10"
   ]
  },
  {
   "cell_type": "code",
   "execution_count": 16,
   "id": "9d14b43f",
   "metadata": {},
   "outputs": [
    {
     "data": {
      "text/plain": [
       "0.5"
      ]
     },
     "execution_count": 16,
     "metadata": {},
     "output_type": "execute_result"
    }
   ],
   "source": [
    "x"
   ]
  },
  {
   "cell_type": "markdown",
   "id": "9683ae95",
   "metadata": {},
   "source": [
    "## 6. Exponention (Power)"
   ]
  },
  {
   "cell_type": "code",
   "execution_count": 17,
   "id": "4d5d1135",
   "metadata": {},
   "outputs": [],
   "source": [
    "# the operation ->> x=x**2 or x=x*x can also be written as ->> x**=2"
   ]
  },
  {
   "cell_type": "code",
   "execution_count": 18,
   "id": "5a46a91a",
   "metadata": {},
   "outputs": [],
   "source": [
    "x=5"
   ]
  },
  {
   "cell_type": "code",
   "execution_count": 19,
   "id": "d8ff598f",
   "metadata": {},
   "outputs": [],
   "source": [
    "x**=2"
   ]
  },
  {
   "cell_type": "code",
   "execution_count": 20,
   "id": "5f93f6b8",
   "metadata": {},
   "outputs": [
    {
     "data": {
      "text/plain": [
       "25"
      ]
     },
     "execution_count": 20,
     "metadata": {},
     "output_type": "execute_result"
    }
   ],
   "source": [
    "x"
   ]
  },
  {
   "cell_type": "markdown",
   "id": "ccbee001",
   "metadata": {},
   "source": [
    "## 7. Quotient"
   ]
  },
  {
   "cell_type": "code",
   "execution_count": 21,
   "id": "037cc5eb",
   "metadata": {},
   "outputs": [],
   "source": [
    "# the opertaion ->> x=x//2 can also be written as ->> x//=2"
   ]
  },
  {
   "cell_type": "code",
   "execution_count": 22,
   "id": "8b5a0914",
   "metadata": {},
   "outputs": [],
   "source": [
    "x=6"
   ]
  },
  {
   "cell_type": "code",
   "execution_count": 23,
   "id": "563a9ba1",
   "metadata": {},
   "outputs": [],
   "source": [
    "x//=2"
   ]
  },
  {
   "cell_type": "code",
   "execution_count": 24,
   "id": "09786cd0",
   "metadata": {},
   "outputs": [
    {
     "data": {
      "text/plain": [
       "3"
      ]
     },
     "execution_count": 24,
     "metadata": {},
     "output_type": "execute_result"
    }
   ],
   "source": [
    "x"
   ]
  },
  {
   "cell_type": "markdown",
   "id": "343ab4a2",
   "metadata": {},
   "source": [
    "## 8. Remainder / Modulus"
   ]
  },
  {
   "cell_type": "code",
   "execution_count": 25,
   "id": "bc95692d",
   "metadata": {},
   "outputs": [],
   "source": [
    "# the operation ->> x=x%2 can also be written as ->> x%=2"
   ]
  },
  {
   "cell_type": "code",
   "execution_count": 36,
   "id": "613b3176",
   "metadata": {},
   "outputs": [],
   "source": [
    "x=15"
   ]
  },
  {
   "cell_type": "code",
   "execution_count": 30,
   "id": "e4f04dc0",
   "metadata": {},
   "outputs": [],
   "source": [
    "x%=2"
   ]
  },
  {
   "cell_type": "code",
   "execution_count": 31,
   "id": "e86bdcc6",
   "metadata": {},
   "outputs": [
    {
     "data": {
      "text/plain": [
       "1"
      ]
     },
     "execution_count": 31,
     "metadata": {},
     "output_type": "execute_result"
    }
   ],
   "source": [
    "x"
   ]
  }
 ],
 "metadata": {
  "kernelspec": {
   "display_name": "Python 3",
   "language": "python",
   "name": "python3"
  },
  "language_info": {
   "codemirror_mode": {
    "name": "ipython",
    "version": 3
   },
   "file_extension": ".py",
   "mimetype": "text/x-python",
   "name": "python",
   "nbconvert_exporter": "python",
   "pygments_lexer": "ipython3",
   "version": "3.8.8"
  }
 },
 "nbformat": 4,
 "nbformat_minor": 5
}
