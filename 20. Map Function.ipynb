{
 "cells": [
  {
   "cell_type": "markdown",
   "id": "bf405457",
   "metadata": {},
   "source": [
    "# MAP FUNCTION"
   ]
  },
  {
   "cell_type": "code",
   "execution_count": 3,
   "id": "f9848a9a",
   "metadata": {},
   "outputs": [],
   "source": [
    "# it takes a function and iter(list/tuple) as an argument and return a map object of all the results,\n",
    "# which is an iterator after applying the function to all the elements in iter\n",
    "# ->> map(fun,iter)\n",
    "# first create a list/tuple then create a function using def and then use the map function"
   ]
  },
  {
   "cell_type": "code",
   "execution_count": 4,
   "id": "66738914",
   "metadata": {},
   "outputs": [],
   "source": [
    "x=[1,2,3,4,5]"
   ]
  },
  {
   "cell_type": "code",
   "execution_count": 9,
   "id": "f1e22154",
   "metadata": {},
   "outputs": [],
   "source": [
    "def add(x):\n",
    "    return(x+10)"
   ]
  },
  {
   "cell_type": "code",
   "execution_count": 11,
   "id": "502a3b42",
   "metadata": {},
   "outputs": [],
   "source": [
    "y=map(add,x)"
   ]
  },
  {
   "cell_type": "code",
   "execution_count": 12,
   "id": "ea8fa105",
   "metadata": {},
   "outputs": [
    {
     "data": {
      "text/plain": [
       "[11, 12, 13, 14, 15]"
      ]
     },
     "execution_count": 12,
     "metadata": {},
     "output_type": "execute_result"
    }
   ],
   "source": [
    "list(y)"
   ]
  },
  {
   "cell_type": "code",
   "execution_count": 13,
   "id": "4f8d5796",
   "metadata": {},
   "outputs": [],
   "source": [
    "x=[1,2,3,4,5]\n",
    "y=[6,7,8,9,10,11]"
   ]
  },
  {
   "cell_type": "code",
   "execution_count": 14,
   "id": "e6a1ae5b",
   "metadata": {},
   "outputs": [],
   "source": [
    "def add(x,y):\n",
    "    return (x+y)"
   ]
  },
  {
   "cell_type": "code",
   "execution_count": 15,
   "id": "146e18ef",
   "metadata": {},
   "outputs": [],
   "source": [
    "y=map(add,x,y)"
   ]
  },
  {
   "cell_type": "code",
   "execution_count": 16,
   "id": "3d72c6d1",
   "metadata": {},
   "outputs": [
    {
     "data": {
      "text/plain": [
       "[7, 9, 11, 13, 15]"
      ]
     },
     "execution_count": 16,
     "metadata": {},
     "output_type": "execute_result"
    }
   ],
   "source": [
    "list(y)"
   ]
  }
 ],
 "metadata": {
  "kernelspec": {
   "display_name": "Python 3",
   "language": "python",
   "name": "python3"
  },
  "language_info": {
   "codemirror_mode": {
    "name": "ipython",
    "version": 3
   },
   "file_extension": ".py",
   "mimetype": "text/x-python",
   "name": "python",
   "nbconvert_exporter": "python",
   "pygments_lexer": "ipython3",
   "version": "3.8.8"
  }
 },
 "nbformat": 4,
 "nbformat_minor": 5
}
