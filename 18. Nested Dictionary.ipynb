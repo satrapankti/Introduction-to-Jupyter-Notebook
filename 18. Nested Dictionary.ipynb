{
 "cells": [
  {
   "cell_type": "markdown",
   "id": "b4f2058c",
   "metadata": {},
   "source": [
    "# NESTED DICTIONARY"
   ]
  },
  {
   "cell_type": "code",
   "execution_count": 5,
   "id": "2a0e60f3",
   "metadata": {},
   "outputs": [],
   "source": [
    "# it is used to add sub key and values in main key\n",
    "# ->> dict={ \"mk1\":{\"k1\":v1,\"k2\":v2},\n",
    "#            \"mk2\":{\"k1\":v1,\"k2\":v2}\n",
    "#          }"
   ]
  },
  {
   "cell_type": "code",
   "execution_count": 19,
   "id": "6b5d307e",
   "metadata": {},
   "outputs": [],
   "source": [
    "Students={\"Robin\":{\"English\":85,\"Maths\":98,\"Science\":79,\"SS\":92},\n",
    "          \"Lilly\":{\"English\":56,\"Maths\":82,\"Science\":75,\"SS\":80},\n",
    "          \"Suzy\":{\"English\":60,\"Maths\":54,\"Science\":76,\"SS\":52}\n",
    "         }"
   ]
  },
  {
   "cell_type": "code",
   "execution_count": 7,
   "id": "d0406568",
   "metadata": {},
   "outputs": [
    {
     "data": {
      "text/plain": [
       "{'Robin': {'English': 85, 'Maths': 98, 'Science': 79, 'SS': 92},\n",
       " 'Lilly': {'English': 56, 'Maths': 82, 'Science': 75, 'SS': 80},\n",
       " 'Suzy': {'English': 60, 'Maths': 54, 'Science': 76, 'SS': 52}}"
      ]
     },
     "execution_count": 7,
     "metadata": {},
     "output_type": "execute_result"
    }
   ],
   "source": [
    "Students"
   ]
  },
  {
   "cell_type": "code",
   "execution_count": 29,
   "id": "138510d4",
   "metadata": {},
   "outputs": [
    {
     "data": {
      "text/plain": [
       "4"
      ]
     },
     "execution_count": 29,
     "metadata": {},
     "output_type": "execute_result"
    }
   ],
   "source": [
    "len(Students[\"Robin\"])"
   ]
  },
  {
   "cell_type": "code",
   "execution_count": 11,
   "id": "aa2583cf",
   "metadata": {},
   "outputs": [
    {
     "data": {
      "text/plain": [
       "54"
      ]
     },
     "execution_count": 11,
     "metadata": {},
     "output_type": "execute_result"
    }
   ],
   "source": [
    "Students[\"Suzy\"][\"Maths\"]"
   ]
  },
  {
   "cell_type": "code",
   "execution_count": 24,
   "id": "9234015c",
   "metadata": {},
   "outputs": [
    {
     "name": "stdout",
     "output_type": "stream",
     "text": [
      "Robin 85\n",
      "Lilly 56\n",
      "Suzy 60\n"
     ]
    }
   ],
   "source": [
    "for i in Students:\n",
    "    print(i,Students[i][\"English\"])"
   ]
  }
 ],
 "metadata": {
  "kernelspec": {
   "display_name": "Python 3",
   "language": "python",
   "name": "python3"
  },
  "language_info": {
   "codemirror_mode": {
    "name": "ipython",
    "version": 3
   },
   "file_extension": ".py",
   "mimetype": "text/x-python",
   "name": "python",
   "nbconvert_exporter": "python",
   "pygments_lexer": "ipython3",
   "version": "3.8.8"
  }
 },
 "nbformat": 4,
 "nbformat_minor": 5
}
