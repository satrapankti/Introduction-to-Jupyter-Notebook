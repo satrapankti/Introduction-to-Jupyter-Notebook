{
 "cells": [
  {
   "cell_type": "markdown",
   "id": "8cd007a6",
   "metadata": {},
   "source": [
    "# LOGICAL OPERATORS"
   ]
  },
  {
   "cell_type": "code",
   "execution_count": 1,
   "id": "b5235f5a",
   "metadata": {},
   "outputs": [],
   "source": [
    "# Operator ->> Description ->> Sign\n",
    "# & ->> logical AND ->> * \n",
    "# | ->> logical OR ->> +"
   ]
  },
  {
   "cell_type": "code",
   "execution_count": 2,
   "id": "09a2d6c8",
   "metadata": {},
   "outputs": [],
   "source": [
    "# Boolean Value ->> Value\n",
    "# TRUE ->> 1\n",
    "# FALSE ->> 0"
   ]
  },
  {
   "cell_type": "code",
   "execution_count": 3,
   "id": "abf58c1e",
   "metadata": {},
   "outputs": [],
   "source": [
    "# only & only bool(0) is considered as FALSE other each value is TRUE\n",
    "# in a boolean value the first letter needs to be capital to execute the code"
   ]
  },
  {
   "cell_type": "code",
   "execution_count": 4,
   "id": "4ed21c77",
   "metadata": {},
   "outputs": [
    {
     "data": {
      "text/plain": [
       "True"
      ]
     },
     "execution_count": 4,
     "metadata": {},
     "output_type": "execute_result"
    }
   ],
   "source": [
    "bool(1)"
   ]
  },
  {
   "cell_type": "code",
   "execution_count": 5,
   "id": "32a6ad89",
   "metadata": {},
   "outputs": [
    {
     "data": {
      "text/plain": [
       "False"
      ]
     },
     "execution_count": 5,
     "metadata": {},
     "output_type": "execute_result"
    }
   ],
   "source": [
    "bool(0)"
   ]
  },
  {
   "cell_type": "code",
   "execution_count": 6,
   "id": "fd6b5371",
   "metadata": {},
   "outputs": [
    {
     "data": {
      "text/plain": [
       "True"
      ]
     },
     "execution_count": 6,
     "metadata": {},
     "output_type": "execute_result"
    }
   ],
   "source": [
    "bool(-1)"
   ]
  },
  {
   "cell_type": "code",
   "execution_count": 7,
   "id": "fc8a5502",
   "metadata": {},
   "outputs": [
    {
     "data": {
      "text/plain": [
       "True"
      ]
     },
     "execution_count": 7,
     "metadata": {},
     "output_type": "execute_result"
    }
   ],
   "source": [
    "bool(0.1)"
   ]
  },
  {
   "cell_type": "code",
   "execution_count": 8,
   "id": "d4cdfebc",
   "metadata": {},
   "outputs": [],
   "source": [
    "# Conditions ->> Result ->> Eg.\n",
    "# True & False ->> False ->> 1*0=0 F\n",
    "# False & False ->> False ->> 0*0=0 F\n",
    "# True & True ->> True ->> 1*1=1 T\n",
    "# True | False ->> True ->> 1+0=1 T\n",
    "# False | False ->> False ->> 0+0=0 F\n",
    "# True | True ->> True ->> 1+1=2 T"
   ]
  },
  {
   "cell_type": "code",
   "execution_count": 9,
   "id": "f0b2dbbd",
   "metadata": {},
   "outputs": [],
   "source": [
    "# AND Operator"
   ]
  },
  {
   "cell_type": "code",
   "execution_count": 10,
   "id": "0e4856c5",
   "metadata": {},
   "outputs": [
    {
     "data": {
      "text/plain": [
       "True"
      ]
     },
     "execution_count": 10,
     "metadata": {},
     "output_type": "execute_result"
    }
   ],
   "source": [
    "True & True"
   ]
  },
  {
   "cell_type": "code",
   "execution_count": 11,
   "id": "e814f0a1",
   "metadata": {},
   "outputs": [
    {
     "data": {
      "text/plain": [
       "False"
      ]
     },
     "execution_count": 11,
     "metadata": {},
     "output_type": "execute_result"
    }
   ],
   "source": [
    "True & False"
   ]
  },
  {
   "cell_type": "code",
   "execution_count": 12,
   "id": "93b7326f",
   "metadata": {},
   "outputs": [
    {
     "data": {
      "text/plain": [
       "False"
      ]
     },
     "execution_count": 12,
     "metadata": {},
     "output_type": "execute_result"
    }
   ],
   "source": [
    "False & False"
   ]
  },
  {
   "cell_type": "code",
   "execution_count": 14,
   "id": "0c8aa2f2",
   "metadata": {},
   "outputs": [
    {
     "data": {
      "text/plain": [
       "1"
      ]
     },
     "execution_count": 14,
     "metadata": {},
     "output_type": "execute_result"
    }
   ],
   "source": [
    "True * True"
   ]
  },
  {
   "cell_type": "code",
   "execution_count": 15,
   "id": "aa95a7a3",
   "metadata": {},
   "outputs": [
    {
     "data": {
      "text/plain": [
       "0"
      ]
     },
     "execution_count": 15,
     "metadata": {},
     "output_type": "execute_result"
    }
   ],
   "source": [
    "True * False"
   ]
  },
  {
   "cell_type": "code",
   "execution_count": 16,
   "id": "9ee8337b",
   "metadata": {},
   "outputs": [
    {
     "data": {
      "text/plain": [
       "0"
      ]
     },
     "execution_count": 16,
     "metadata": {},
     "output_type": "execute_result"
    }
   ],
   "source": [
    "False * False"
   ]
  },
  {
   "cell_type": "code",
   "execution_count": 17,
   "id": "7ab351e4",
   "metadata": {},
   "outputs": [],
   "source": [
    "# OR Operator"
   ]
  },
  {
   "cell_type": "code",
   "execution_count": 19,
   "id": "6eaf847c",
   "metadata": {},
   "outputs": [
    {
     "data": {
      "text/plain": [
       "True"
      ]
     },
     "execution_count": 19,
     "metadata": {},
     "output_type": "execute_result"
    }
   ],
   "source": [
    "True | True"
   ]
  },
  {
   "cell_type": "code",
   "execution_count": 20,
   "id": "0f7b0f29",
   "metadata": {},
   "outputs": [
    {
     "data": {
      "text/plain": [
       "True"
      ]
     },
     "execution_count": 20,
     "metadata": {},
     "output_type": "execute_result"
    }
   ],
   "source": [
    "True | False"
   ]
  },
  {
   "cell_type": "code",
   "execution_count": 21,
   "id": "46312618",
   "metadata": {},
   "outputs": [
    {
     "data": {
      "text/plain": [
       "False"
      ]
     },
     "execution_count": 21,
     "metadata": {},
     "output_type": "execute_result"
    }
   ],
   "source": [
    "False | False"
   ]
  },
  {
   "cell_type": "code",
   "execution_count": 22,
   "id": "85d18639",
   "metadata": {},
   "outputs": [
    {
     "data": {
      "text/plain": [
       "2"
      ]
     },
     "execution_count": 22,
     "metadata": {},
     "output_type": "execute_result"
    }
   ],
   "source": [
    "True + True"
   ]
  },
  {
   "cell_type": "code",
   "execution_count": 23,
   "id": "6a259ead",
   "metadata": {},
   "outputs": [
    {
     "data": {
      "text/plain": [
       "1"
      ]
     },
     "execution_count": 23,
     "metadata": {},
     "output_type": "execute_result"
    }
   ],
   "source": [
    "True + False"
   ]
  },
  {
   "cell_type": "code",
   "execution_count": 24,
   "id": "483593ac",
   "metadata": {},
   "outputs": [
    {
     "data": {
      "text/plain": [
       "0"
      ]
     },
     "execution_count": 24,
     "metadata": {},
     "output_type": "execute_result"
    }
   ],
   "source": [
    "False+ False"
   ]
  },
  {
   "cell_type": "code",
   "execution_count": 25,
   "id": "4b556ab1",
   "metadata": {},
   "outputs": [],
   "source": [
    "# below are some examples"
   ]
  },
  {
   "cell_type": "code",
   "execution_count": 26,
   "id": "3659d64a",
   "metadata": {},
   "outputs": [],
   "source": [
    "x=10"
   ]
  },
  {
   "cell_type": "code",
   "execution_count": 28,
   "id": "c04844ad",
   "metadata": {},
   "outputs": [
    {
     "data": {
      "text/plain": [
       "True"
      ]
     },
     "execution_count": 28,
     "metadata": {},
     "output_type": "execute_result"
    }
   ],
   "source": [
    "(x>5) & (x==10)"
   ]
  },
  {
   "cell_type": "code",
   "execution_count": 30,
   "id": "bd305f79",
   "metadata": {},
   "outputs": [
    {
     "data": {
      "text/plain": [
       "False"
      ]
     },
     "execution_count": 30,
     "metadata": {},
     "output_type": "execute_result"
    }
   ],
   "source": [
    "(x<=5) | (x!=10)"
   ]
  }
 ],
 "metadata": {
  "kernelspec": {
   "display_name": "Python 3",
   "language": "python",
   "name": "python3"
  },
  "language_info": {
   "codemirror_mode": {
    "name": "ipython",
    "version": 3
   },
   "file_extension": ".py",
   "mimetype": "text/x-python",
   "name": "python",
   "nbconvert_exporter": "python",
   "pygments_lexer": "ipython3",
   "version": "3.8.8"
  }
 },
 "nbformat": 4,
 "nbformat_minor": 5
}
