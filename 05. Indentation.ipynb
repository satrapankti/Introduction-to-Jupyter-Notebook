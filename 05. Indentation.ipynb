{
 "cells": [
  {
   "cell_type": "markdown",
   "id": "ffc0b6b1",
   "metadata": {},
   "source": [
    "# INDENTATION"
   ]
  },
  {
   "cell_type": "code",
   "execution_count": 2,
   "id": "8a85e94f",
   "metadata": {},
   "outputs": [],
   "source": [
    "# it refers to spaces in the beginning of the code and to create a similar block of codes\n",
    "# code with same space will group up\n",
    "# whenever creating functions,if else statements,for while loops or class it is used eg. conditions\n",
    "# after creating any function the colon : is must ,it is mandatory for the code to execute\n",
    "# after colon and enter the cursor should move just below the condition to create indentation\n",
    "# generally there are 4 tabs or space by default but 1 tab space is must"
   ]
  },
  {
   "cell_type": "code",
   "execution_count": 3,
   "id": "974da348",
   "metadata": {},
   "outputs": [
    {
     "name": "stdout",
     "output_type": "stream",
     "text": [
      "correct\n"
     ]
    }
   ],
   "source": [
    "x=1\n",
    "if (x>=1):\n",
    "    print(\"correct\")"
   ]
  },
  {
   "cell_type": "code",
   "execution_count": 4,
   "id": "0dc64569",
   "metadata": {},
   "outputs": [
    {
     "name": "stdout",
     "output_type": "stream",
     "text": [
      "0\n",
      "1\n",
      "2\n",
      "3\n",
      "4\n"
     ]
    }
   ],
   "source": [
    "for i in range (0,5):\n",
    "    print(i)"
   ]
  },
  {
   "cell_type": "code",
   "execution_count": 6,
   "id": "a8d41d18",
   "metadata": {},
   "outputs": [
    {
     "name": "stdout",
     "output_type": "stream",
     "text": [
      "4\n",
      "5\n"
     ]
    }
   ],
   "source": [
    "for i in range (0,6):\n",
    "    if (i>3):\n",
    "        print(i)"
   ]
  }
 ],
 "metadata": {
  "kernelspec": {
   "display_name": "Python 3",
   "language": "python",
   "name": "python3"
  },
  "language_info": {
   "codemirror_mode": {
    "name": "ipython",
    "version": 3
   },
   "file_extension": ".py",
   "mimetype": "text/x-python",
   "name": "python",
   "nbconvert_exporter": "python",
   "pygments_lexer": "ipython3",
   "version": "3.8.8"
  }
 },
 "nbformat": 4,
 "nbformat_minor": 5
}
