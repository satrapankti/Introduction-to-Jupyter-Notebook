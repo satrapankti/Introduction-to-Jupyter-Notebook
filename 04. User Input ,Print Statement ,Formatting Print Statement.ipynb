{
 "cells": [
  {
   "cell_type": "markdown",
   "id": "ba1eae07",
   "metadata": {},
   "source": [
    "# USER INPUT"
   ]
  },
  {
   "cell_type": "code",
   "execution_count": 1,
   "id": "38957e99",
   "metadata": {},
   "outputs": [],
   "source": [
    "# to open a input dialouge box type ->> input(__)\n",
    "# to add anything before the box then type ->> input(\"__\")"
   ]
  },
  {
   "cell_type": "code",
   "execution_count": 2,
   "id": "e0091c8d",
   "metadata": {},
   "outputs": [
    {
     "name": "stdout",
     "output_type": "stream",
     "text": [
      "this is a dialouge box script\n"
     ]
    },
    {
     "data": {
      "text/plain": [
       "'this is a dialouge box script'"
      ]
     },
     "execution_count": 2,
     "metadata": {},
     "output_type": "execute_result"
    }
   ],
   "source": [
    "input()"
   ]
  },
  {
   "cell_type": "code",
   "execution_count": 4,
   "id": "03404877",
   "metadata": {},
   "outputs": [
    {
     "name": "stdout",
     "output_type": "stream",
     "text": [
      "age:this is to add something before it\n"
     ]
    },
    {
     "data": {
      "text/plain": [
       "'this is to add something before it'"
      ]
     },
     "execution_count": 4,
     "metadata": {},
     "output_type": "execute_result"
    }
   ],
   "source": [
    "input(\"age:\")"
   ]
  },
  {
   "cell_type": "markdown",
   "id": "86514021",
   "metadata": {},
   "source": [
    "# PRINT STATEMENT"
   ]
  },
  {
   "cell_type": "code",
   "execution_count": 11,
   "id": "0367da8b",
   "metadata": {},
   "outputs": [],
   "source": [
    "# to print can a type -> print(var) or print(\"__\") for typing words"
   ]
  },
  {
   "cell_type": "code",
   "execution_count": 12,
   "id": "27e17bee",
   "metadata": {},
   "outputs": [
    {
     "name": "stdout",
     "output_type": "stream",
     "text": [
      "words\n"
     ]
    }
   ],
   "source": [
    "print(\"words\")"
   ]
  },
  {
   "cell_type": "code",
   "execution_count": 6,
   "id": "1979ddf1",
   "metadata": {},
   "outputs": [],
   "source": [
    "x= 10"
   ]
  },
  {
   "cell_type": "code",
   "execution_count": 7,
   "id": "59cca4de",
   "metadata": {},
   "outputs": [
    {
     "name": "stdout",
     "output_type": "stream",
     "text": [
      "10\n"
     ]
    }
   ],
   "source": [
    "print(x)"
   ]
  },
  {
   "cell_type": "code",
   "execution_count": 8,
   "id": "a9634940",
   "metadata": {},
   "outputs": [
    {
     "data": {
      "text/plain": [
       "10"
      ]
     },
     "execution_count": 8,
     "metadata": {},
     "output_type": "execute_result"
    }
   ],
   "source": [
    "x"
   ]
  },
  {
   "cell_type": "code",
   "execution_count": 13,
   "id": "773869d9",
   "metadata": {},
   "outputs": [],
   "source": [
    "# to print var along with words type ->> print(\"__\",var)"
   ]
  },
  {
   "cell_type": "code",
   "execution_count": 14,
   "id": "7c9ca52c",
   "metadata": {},
   "outputs": [
    {
     "name": "stdout",
     "output_type": "stream",
     "text": [
      "letters 25\n"
     ]
    }
   ],
   "source": [
    "print(\"letters\",25)"
   ]
  },
  {
   "cell_type": "markdown",
   "id": "e9b87c55",
   "metadata": {},
   "source": [
    "# FORMATTING PRINT STATEMENT"
   ]
  },
  {
   "cell_type": "code",
   "execution_count": 2,
   "id": "345dbab8",
   "metadata": {},
   "outputs": [
    {
     "name": "stdout",
     "output_type": "stream",
     "text": [
      "sam:enter your age:25\n"
     ]
    }
   ],
   "source": [
    "x=int(input(\"sam:enter your age:\"))"
   ]
  },
  {
   "cell_type": "code",
   "execution_count": 3,
   "id": "6eaebc71",
   "metadata": {},
   "outputs": [],
   "source": [
    "y=x+5"
   ]
  },
  {
   "cell_type": "code",
   "execution_count": 8,
   "id": "04950de8",
   "metadata": {},
   "outputs": [],
   "source": [
    "# y var will only execute if x is an int"
   ]
  },
  {
   "cell_type": "code",
   "execution_count": 4,
   "id": "c6b2c0ee",
   "metadata": {},
   "outputs": [
    {
     "data": {
      "text/plain": [
       "30"
      ]
     },
     "execution_count": 4,
     "metadata": {},
     "output_type": "execute_result"
    }
   ],
   "source": [
    "y"
   ]
  },
  {
   "cell_type": "code",
   "execution_count": 10,
   "id": "5fc19cc3",
   "metadata": {},
   "outputs": [
    {
     "name": "stdout",
     "output_type": "stream",
     "text": [
      "sam is 25 years old and max is 30 years old.\n"
     ]
    }
   ],
   "source": [
    "print(\"sam is\",x,\"years old and max is\",y,\"years old.\")"
   ]
  },
  {
   "cell_type": "code",
   "execution_count": 11,
   "id": "7283d4ae",
   "metadata": {},
   "outputs": [
    {
     "name": "stdout",
     "output_type": "stream",
     "text": [
      "sam is 25 years old and max is 30 years old.\n"
     ]
    }
   ],
   "source": [
    "print(\"sam is {a} years old and max is {b} years old.\".format(a=x,b=y))`"
   ]
  },
  {
   "cell_type": "code",
   "execution_count": 15,
   "id": "febf1ae1",
   "metadata": {},
   "outputs": [],
   "source": [
    "# here a&b should be eqvivalent to no./x/y i.e. varibales"
   ]
  },
  {
   "cell_type": "code",
   "execution_count": 12,
   "id": "1c766884",
   "metadata": {},
   "outputs": [
    {
     "name": "stdout",
     "output_type": "stream",
     "text": [
      "sam is 25 years old and max is 30 years old.\n"
     ]
    }
   ],
   "source": [
    "print(\"sam is {0} years old and max is {1} years old.\".format(x,y))"
   ]
  },
  {
   "cell_type": "code",
   "execution_count": 13,
   "id": "715c0f8f",
   "metadata": {},
   "outputs": [],
   "source": [
    "# here it should always start with {0} and the with other no. and the further no. i.e. x&y will also be coded accordingly\n",
    "# if not started with 0 the code will not execute "
   ]
  },
  {
   "cell_type": "code",
   "execution_count": 5,
   "id": "55ccfa24",
   "metadata": {},
   "outputs": [
    {
     "name": "stdout",
     "output_type": "stream",
     "text": [
      "sam is 30 years old and max is 25 years old.\n"
     ]
    }
   ],
   "source": [
    "print(\"sam is {} years old and max is {} years old.\".format(y,x))"
   ]
  },
  {
   "cell_type": "code",
   "execution_count": null,
   "id": "f8a1c2a6",
   "metadata": {},
   "outputs": [],
   "source": [
    "# here it will always consider ascending order for x&y formatting"
   ]
  }
 ],
 "metadata": {
  "kernelspec": {
   "display_name": "Python 3",
   "language": "python",
   "name": "python3"
  },
  "language_info": {
   "codemirror_mode": {
    "name": "ipython",
    "version": 3
   },
   "file_extension": ".py",
   "mimetype": "text/x-python",
   "name": "python",
   "nbconvert_exporter": "python",
   "pygments_lexer": "ipython3",
   "version": "3.8.8"
  }
 },
 "nbformat": 4,
 "nbformat_minor": 5
}
