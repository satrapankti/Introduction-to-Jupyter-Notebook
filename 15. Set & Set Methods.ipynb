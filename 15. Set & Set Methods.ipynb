{
 "cells": [
  {
   "cell_type": "markdown",
   "id": "fbfe4d1b",
   "metadata": {},
   "source": [
    "# SET"
   ]
  },
  {
   "cell_type": "code",
   "execution_count": 28,
   "id": "c90c3c7c",
   "metadata": {},
   "outputs": [],
   "source": [
    "# set is a collection of unordered data items which can be of different data types\n",
    "# it is defined in curly brackets {}\n",
    "# all the elements in set are unique\n",
    "# True ->1,False->0 is been considered as same\n",
    "# it will consider the element which is first and delete the duplicate after it\n",
    "# it will automatically sort the values randomly"
   ]
  },
  {
   "cell_type": "code",
   "execution_count": 3,
   "id": "f0e669e2",
   "metadata": {},
   "outputs": [],
   "source": [
    "a={0,1,2,3,True,False,\"hello\",3,3.5}"
   ]
  },
  {
   "cell_type": "code",
   "execution_count": 4,
   "id": "4580c410",
   "metadata": {},
   "outputs": [
    {
     "data": {
      "text/plain": [
       "{0, 1, 2, 3, 3.5, 'hello'}"
      ]
     },
     "execution_count": 4,
     "metadata": {},
     "output_type": "execute_result"
    }
   ],
   "source": [
    "a"
   ]
  },
  {
   "cell_type": "code",
   "execution_count": 6,
   "id": "0b0b18cf",
   "metadata": {},
   "outputs": [
    {
     "data": {
      "text/plain": [
       "set"
      ]
     },
     "execution_count": 6,
     "metadata": {},
     "output_type": "execute_result"
    }
   ],
   "source": [
    "type(a)"
   ]
  },
  {
   "cell_type": "code",
   "execution_count": 12,
   "id": "fd8511be",
   "metadata": {},
   "outputs": [],
   "source": [
    "l1=[1,2,2,3,6,7,8,1,True,False]"
   ]
  },
  {
   "cell_type": "code",
   "execution_count": 13,
   "id": "e27ba19e",
   "metadata": {},
   "outputs": [
    {
     "data": {
      "text/plain": [
       "[1, 2, 2, 3, 6, 7, 8, 1, True, False]"
      ]
     },
     "execution_count": 13,
     "metadata": {},
     "output_type": "execute_result"
    }
   ],
   "source": [
    "l1"
   ]
  },
  {
   "cell_type": "code",
   "execution_count": 17,
   "id": "f1a6b8e0",
   "metadata": {},
   "outputs": [],
   "source": [
    "b=set(l1)"
   ]
  },
  {
   "cell_type": "code",
   "execution_count": 18,
   "id": "235f73a3",
   "metadata": {},
   "outputs": [
    {
     "data": {
      "text/plain": [
       "{False, 1, 2, 3, 6, 7, 8}"
      ]
     },
     "execution_count": 18,
     "metadata": {},
     "output_type": "execute_result"
    }
   ],
   "source": [
    "b"
   ]
  },
  {
   "cell_type": "code",
   "execution_count": 22,
   "id": "0b56795c",
   "metadata": {},
   "outputs": [
    {
     "name": "stdout",
     "output_type": "stream",
     "text": [
      "False\n",
      "1\n",
      "2\n",
      "3\n",
      "6\n",
      "7\n",
      "8\n"
     ]
    }
   ],
   "source": [
    "for i in b: \n",
    "    print(i)"
   ]
  },
  {
   "cell_type": "markdown",
   "id": "2c7c86db",
   "metadata": {},
   "source": [
    "# SET METHODS"
   ]
  },
  {
   "cell_type": "markdown",
   "id": "1c0f4ba2",
   "metadata": {},
   "source": [
    "## 1. ADD"
   ]
  },
  {
   "cell_type": "code",
   "execution_count": 24,
   "id": "431cfec5",
   "metadata": {},
   "outputs": [],
   "source": [
    "# this will add an single element in the set\n",
    "# ->> set.add(_)"
   ]
  },
  {
   "cell_type": "code",
   "execution_count": 25,
   "id": "d0fee44d",
   "metadata": {},
   "outputs": [],
   "source": [
    "a={1,8,6,59,47,\"hello\",False,78,20}"
   ]
  },
  {
   "cell_type": "code",
   "execution_count": 26,
   "id": "922c8596",
   "metadata": {},
   "outputs": [],
   "source": [
    "a.add(10)"
   ]
  },
  {
   "cell_type": "code",
   "execution_count": 27,
   "id": "876395e8",
   "metadata": {},
   "outputs": [
    {
     "data": {
      "text/plain": [
       "{1, 10, 20, 47, 59, 6, 78, 8, False, 'hello'}"
      ]
     },
     "execution_count": 27,
     "metadata": {},
     "output_type": "execute_result"
    }
   ],
   "source": [
    "a"
   ]
  },
  {
   "cell_type": "markdown",
   "id": "79e364e4",
   "metadata": {},
   "source": [
    "## 2. UPDATE"
   ]
  },
  {
   "cell_type": "code",
   "execution_count": 30,
   "id": "149a8ff1",
   "metadata": {},
   "outputs": [],
   "source": [
    "# this will add more than 1 element in the set\n",
    "# ->> set.update([_,_])"
   ]
  },
  {
   "cell_type": "code",
   "execution_count": 31,
   "id": "e12b357d",
   "metadata": {},
   "outputs": [
    {
     "data": {
      "text/plain": [
       "{1, 10, 20, 47, 59, 6, 78, 8, False, 'hello'}"
      ]
     },
     "execution_count": 31,
     "metadata": {},
     "output_type": "execute_result"
    }
   ],
   "source": [
    "a"
   ]
  },
  {
   "cell_type": "code",
   "execution_count": 32,
   "id": "d1208f0c",
   "metadata": {},
   "outputs": [],
   "source": [
    "a.update([80,100,250])"
   ]
  },
  {
   "cell_type": "code",
   "execution_count": 33,
   "id": "bd495b11",
   "metadata": {},
   "outputs": [
    {
     "data": {
      "text/plain": [
       "{1, 10, 100, 20, 250, 47, 59, 6, 78, 8, 80, False, 'hello'}"
      ]
     },
     "execution_count": 33,
     "metadata": {},
     "output_type": "execute_result"
    }
   ],
   "source": [
    "a"
   ]
  },
  {
   "cell_type": "markdown",
   "id": "c16d2bc5",
   "metadata": {},
   "source": [
    "## 3. LENGTH"
   ]
  },
  {
   "cell_type": "code",
   "execution_count": 34,
   "id": "ac80ae8c",
   "metadata": {},
   "outputs": [],
   "source": [
    "# it will count the no. of elements in the set\n",
    "# ->> len(set_)"
   ]
  },
  {
   "cell_type": "code",
   "execution_count": 35,
   "id": "a5c80294",
   "metadata": {},
   "outputs": [
    {
     "data": {
      "text/plain": [
       "13"
      ]
     },
     "execution_count": 35,
     "metadata": {},
     "output_type": "execute_result"
    }
   ],
   "source": [
    "len(a)"
   ]
  },
  {
   "cell_type": "markdown",
   "id": "dc413b7d",
   "metadata": {},
   "source": [
    "## 4. REMOVE"
   ]
  },
  {
   "cell_type": "code",
   "execution_count": 36,
   "id": "2357ccbe",
   "metadata": {},
   "outputs": [],
   "source": [
    "# it will remove the specified element from the set\n",
    "# ->> set.remove(_)"
   ]
  },
  {
   "cell_type": "code",
   "execution_count": 37,
   "id": "123c8b0d",
   "metadata": {},
   "outputs": [
    {
     "data": {
      "text/plain": [
       "{1, 10, 100, 20, 250, 47, 59, 6, 78, 8, 80, False, 'hello'}"
      ]
     },
     "execution_count": 37,
     "metadata": {},
     "output_type": "execute_result"
    }
   ],
   "source": [
    "a"
   ]
  },
  {
   "cell_type": "code",
   "execution_count": 38,
   "id": "e1da5ae7",
   "metadata": {},
   "outputs": [],
   "source": [
    "a.remove(\"hello\")"
   ]
  },
  {
   "cell_type": "code",
   "execution_count": 39,
   "id": "17fc447c",
   "metadata": {},
   "outputs": [
    {
     "data": {
      "text/plain": [
       "{False, 1, 6, 8, 10, 20, 47, 59, 78, 80, 100, 250}"
      ]
     },
     "execution_count": 39,
     "metadata": {},
     "output_type": "execute_result"
    }
   ],
   "source": [
    "a"
   ]
  },
  {
   "cell_type": "markdown",
   "id": "2ba3f2c6",
   "metadata": {},
   "source": [
    "## 5. POP"
   ]
  },
  {
   "cell_type": "code",
   "execution_count": 40,
   "id": "ecd90648",
   "metadata": {},
   "outputs": [],
   "source": [
    "# it will remove any random element from the set\n",
    "# set.pop()"
   ]
  },
  {
   "cell_type": "code",
   "execution_count": 41,
   "id": "e7b6fe34",
   "metadata": {},
   "outputs": [
    {
     "data": {
      "text/plain": [
       "{False, 1, 6, 8, 10, 20, 47, 59, 78, 80, 100, 250}"
      ]
     },
     "execution_count": 41,
     "metadata": {},
     "output_type": "execute_result"
    }
   ],
   "source": [
    "a"
   ]
  },
  {
   "cell_type": "code",
   "execution_count": 42,
   "id": "3c6179e0",
   "metadata": {},
   "outputs": [
    {
     "data": {
      "text/plain": [
       "False"
      ]
     },
     "execution_count": 42,
     "metadata": {},
     "output_type": "execute_result"
    }
   ],
   "source": [
    "a.pop()"
   ]
  },
  {
   "cell_type": "code",
   "execution_count": 43,
   "id": "8d44268b",
   "metadata": {},
   "outputs": [
    {
     "data": {
      "text/plain": [
       "{1, 6, 8, 10, 20, 47, 59, 78, 80, 100, 250}"
      ]
     },
     "execution_count": 43,
     "metadata": {},
     "output_type": "execute_result"
    }
   ],
   "source": [
    "a"
   ]
  },
  {
   "cell_type": "markdown",
   "id": "a5359d78",
   "metadata": {},
   "source": [
    "## 6. CLEAR"
   ]
  },
  {
   "cell_type": "code",
   "execution_count": 44,
   "id": "7a286254",
   "metadata": {},
   "outputs": [],
   "source": [
    "# it will delete the whole set\n",
    "# ->> set.clear()"
   ]
  },
  {
   "cell_type": "code",
   "execution_count": 45,
   "id": "803ecb05",
   "metadata": {},
   "outputs": [
    {
     "data": {
      "text/plain": [
       "{1, 6, 8, 10, 20, 47, 59, 78, 80, 100, 250}"
      ]
     },
     "execution_count": 45,
     "metadata": {},
     "output_type": "execute_result"
    }
   ],
   "source": [
    "a"
   ]
  },
  {
   "cell_type": "code",
   "execution_count": 46,
   "id": "19581e87",
   "metadata": {},
   "outputs": [],
   "source": [
    "a.clear()"
   ]
  },
  {
   "cell_type": "code",
   "execution_count": 47,
   "id": "2d8fac6e",
   "metadata": {},
   "outputs": [
    {
     "data": {
      "text/plain": [
       "set()"
      ]
     },
     "execution_count": 47,
     "metadata": {},
     "output_type": "execute_result"
    }
   ],
   "source": [
    "a"
   ]
  },
  {
   "cell_type": "code",
   "execution_count": 48,
   "id": "5a7fc4ea",
   "metadata": {},
   "outputs": [
    {
     "data": {
      "text/plain": [
       "0"
      ]
     },
     "execution_count": 48,
     "metadata": {},
     "output_type": "execute_result"
    }
   ],
   "source": [
    "len(a)"
   ]
  },
  {
   "cell_type": "code",
   "execution_count": 1,
   "id": "7a21bcad",
   "metadata": {},
   "outputs": [],
   "source": [
    "a={1,3,5,7,9}\n",
    "b={1,2,3,4,6}"
   ]
  },
  {
   "cell_type": "markdown",
   "id": "6140502f",
   "metadata": {},
   "source": [
    "## 7. UNION"
   ]
  },
  {
   "cell_type": "code",
   "execution_count": 13,
   "id": "2b7fcf7f",
   "metadata": {},
   "outputs": [],
   "source": [
    "# this will add elements of both the set \n",
    "# it will not repeat any element even if it is common\n",
    "# ->> set1.union(set2)"
   ]
  },
  {
   "cell_type": "code",
   "execution_count": 3,
   "id": "b3d45f8f",
   "metadata": {},
   "outputs": [
    {
     "data": {
      "text/plain": [
       "{1, 2, 3, 4, 5, 6, 7, 9}"
      ]
     },
     "execution_count": 3,
     "metadata": {},
     "output_type": "execute_result"
    }
   ],
   "source": [
    "a.union(b)"
   ]
  },
  {
   "cell_type": "markdown",
   "id": "58b719c2",
   "metadata": {},
   "source": [
    "## 8. INTERSECTION"
   ]
  },
  {
   "cell_type": "code",
   "execution_count": 6,
   "id": "b996d6f7",
   "metadata": {},
   "outputs": [],
   "source": [
    "# this will show only the common elements in both the set\n",
    "# ->> set1.intersection(set2)"
   ]
  },
  {
   "cell_type": "code",
   "execution_count": 5,
   "id": "dd8458fa",
   "metadata": {},
   "outputs": [
    {
     "data": {
      "text/plain": [
       "{1, 3}"
      ]
     },
     "execution_count": 5,
     "metadata": {},
     "output_type": "execute_result"
    }
   ],
   "source": [
    "a.intersection(b)"
   ]
  },
  {
   "cell_type": "markdown",
   "id": "ea4b2ad6",
   "metadata": {},
   "source": [
    "## 9. A-B (A EXCEPT B)"
   ]
  },
  {
   "cell_type": "code",
   "execution_count": null,
   "id": "55407fbc",
   "metadata": {},
   "outputs": [],
   "source": [
    "# it will show elements of A but not which are also(common)in B\n",
    "# ->> set1-set2"
   ]
  },
  {
   "cell_type": "code",
   "execution_count": 7,
   "id": "edaa4892",
   "metadata": {},
   "outputs": [
    {
     "data": {
      "text/plain": [
       "{5, 7, 9}"
      ]
     },
     "execution_count": 7,
     "metadata": {},
     "output_type": "execute_result"
    }
   ],
   "source": [
    "a-b"
   ]
  },
  {
   "cell_type": "markdown",
   "id": "6c4ca97d",
   "metadata": {},
   "source": [
    "## 10. B-A (B EXCEPT A)"
   ]
  },
  {
   "cell_type": "code",
   "execution_count": null,
   "id": "9e6e4a32",
   "metadata": {},
   "outputs": [],
   "source": [
    "# it will show elements of B but not which are also(common)in A\n",
    "# ->> set2-set1"
   ]
  },
  {
   "cell_type": "code",
   "execution_count": 8,
   "id": "d5e5cdb6",
   "metadata": {},
   "outputs": [
    {
     "data": {
      "text/plain": [
       "{2, 4, 6}"
      ]
     },
     "execution_count": 8,
     "metadata": {},
     "output_type": "execute_result"
    }
   ],
   "source": [
    "b-a"
   ]
  },
  {
   "cell_type": "markdown",
   "id": "eacd72ce",
   "metadata": {},
   "source": [
    "## 11. A^B (NON-COMMON)"
   ]
  },
  {
   "cell_type": "code",
   "execution_count": 12,
   "id": "fa803769",
   "metadata": {},
   "outputs": [],
   "source": [
    "# it will show elements which are not common in both the sets\n",
    "# ->> set1^set2"
   ]
  },
  {
   "cell_type": "code",
   "execution_count": 10,
   "id": "b6158e24",
   "metadata": {},
   "outputs": [
    {
     "data": {
      "text/plain": [
       "{2, 4, 5, 6, 7, 9}"
      ]
     },
     "execution_count": 10,
     "metadata": {},
     "output_type": "execute_result"
    }
   ],
   "source": [
    "a^b"
   ]
  }
 ],
 "metadata": {
  "kernelspec": {
   "display_name": "Python 3",
   "language": "python",
   "name": "python3"
  },
  "language_info": {
   "codemirror_mode": {
    "name": "ipython",
    "version": 3
   },
   "file_extension": ".py",
   "mimetype": "text/x-python",
   "name": "python",
   "nbconvert_exporter": "python",
   "pygments_lexer": "ipython3",
   "version": "3.8.8"
  }
 },
 "nbformat": 4,
 "nbformat_minor": 5
}
