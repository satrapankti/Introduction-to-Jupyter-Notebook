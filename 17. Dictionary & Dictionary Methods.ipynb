{
 "cells": [
  {
   "cell_type": "markdown",
   "id": "c4ea21db",
   "metadata": {},
   "source": [
    "# DICTIONARY"
   ]
  },
  {
   "cell_type": "code",
   "execution_count": 64,
   "id": "046b9d21",
   "metadata": {},
   "outputs": [],
   "source": [
    "# it is an unordered collection of key and value pairs,where the keys and values can be of any data type\n",
    "# ->> a={\"x\":1,\"y\":2,\"z\":3}    ->> key:value"
   ]
  },
  {
   "cell_type": "code",
   "execution_count": 65,
   "id": "760884bb",
   "metadata": {},
   "outputs": [],
   "source": [
    "student={\"sam\":75,\"leo\":95,\"joe\":50}"
   ]
  },
  {
   "cell_type": "markdown",
   "id": "fba7ee97",
   "metadata": {},
   "source": [
    "## INDEXING "
   ]
  },
  {
   "cell_type": "code",
   "execution_count": 66,
   "id": "d0b76bfa",
   "metadata": {},
   "outputs": [],
   "source": [
    "# for getting values of key \n",
    "# ->> dict[\"key\"]"
   ]
  },
  {
   "cell_type": "code",
   "execution_count": 67,
   "id": "1e78c616",
   "metadata": {},
   "outputs": [
    {
     "data": {
      "text/plain": [
       "95"
      ]
     },
     "execution_count": 67,
     "metadata": {},
     "output_type": "execute_result"
    }
   ],
   "source": [
    "student[\"leo\"]"
   ]
  },
  {
   "cell_type": "markdown",
   "id": "5bfa7fbb",
   "metadata": {},
   "source": [
    "# DICTIONARY METHODS"
   ]
  },
  {
   "cell_type": "markdown",
   "id": "07dce7dc",
   "metadata": {},
   "source": [
    "## GET"
   ]
  },
  {
   "cell_type": "code",
   "execution_count": 46,
   "id": "46d5cafe",
   "metadata": {},
   "outputs": [],
   "source": [
    "# same as indexing \n",
    "# ->> dict.get(\"key\")"
   ]
  },
  {
   "cell_type": "code",
   "execution_count": 45,
   "id": "8102fe1b",
   "metadata": {},
   "outputs": [
    {
     "data": {
      "text/plain": [
       "75"
      ]
     },
     "execution_count": 45,
     "metadata": {},
     "output_type": "execute_result"
    }
   ],
   "source": [
    "student.get(\"sam\")"
   ]
  },
  {
   "cell_type": "markdown",
   "id": "0e99b548",
   "metadata": {},
   "source": [
    "## ADDING VALUES"
   ]
  },
  {
   "cell_type": "code",
   "execution_count": 29,
   "id": "0c04d07c",
   "metadata": {},
   "outputs": [],
   "source": [
    "# for adding elements in dict \n",
    "# ->> dict[\"key\"]=value"
   ]
  },
  {
   "cell_type": "code",
   "execution_count": 6,
   "id": "718a183d",
   "metadata": {},
   "outputs": [],
   "source": [
    "student[\"tom\"]=83"
   ]
  },
  {
   "cell_type": "code",
   "execution_count": 7,
   "id": "b7f66e37",
   "metadata": {},
   "outputs": [
    {
     "data": {
      "text/plain": [
       "{'sam': 75, 'leo': 95, 'joe': 50, 'tom': 83}"
      ]
     },
     "execution_count": 7,
     "metadata": {},
     "output_type": "execute_result"
    }
   ],
   "source": [
    "student"
   ]
  },
  {
   "cell_type": "code",
   "execution_count": 34,
   "id": "616088ac",
   "metadata": {},
   "outputs": [],
   "source": [
    "# for the length of the dict\n",
    "# ->> len(dict) and for the key ->> len(dict[\"key\"])"
   ]
  },
  {
   "cell_type": "code",
   "execution_count": 8,
   "id": "8b0c3a99",
   "metadata": {},
   "outputs": [
    {
     "data": {
      "text/plain": [
       "4"
      ]
     },
     "execution_count": 8,
     "metadata": {},
     "output_type": "execute_result"
    }
   ],
   "source": [
    "len(student)"
   ]
  },
  {
   "cell_type": "code",
   "execution_count": 31,
   "id": "ad460b34",
   "metadata": {},
   "outputs": [],
   "source": [
    "a={\"sam\":[75,50,45,90,10],\"leo\":[95,89,36,72,100],\"joe\":[50,45,60,71,58]}"
   ]
  },
  {
   "cell_type": "code",
   "execution_count": 33,
   "id": "1437ce80",
   "metadata": {
    "scrolled": true
   },
   "outputs": [
    {
     "data": {
      "text/plain": [
       "5"
      ]
     },
     "execution_count": 33,
     "metadata": {},
     "output_type": "execute_result"
    }
   ],
   "source": [
    "len(a[\"leo\"])"
   ]
  },
  {
   "cell_type": "markdown",
   "id": "5aa9ca2c",
   "metadata": {},
   "source": [
    "## POP"
   ]
  },
  {
   "cell_type": "code",
   "execution_count": 35,
   "id": "5714d24b",
   "metadata": {},
   "outputs": [],
   "source": [
    "# it will delete the specified key and value\n",
    "# ->> dict.pop(\"key\")"
   ]
  },
  {
   "cell_type": "code",
   "execution_count": 38,
   "id": "78a24b57",
   "metadata": {},
   "outputs": [],
   "source": [
    "student={\"sam\":75,\"leo\":95,\"joe\":50,'tom': 83}"
   ]
  },
  {
   "cell_type": "code",
   "execution_count": 39,
   "id": "248c050e",
   "metadata": {},
   "outputs": [
    {
     "data": {
      "text/plain": [
       "50"
      ]
     },
     "execution_count": 39,
     "metadata": {},
     "output_type": "execute_result"
    }
   ],
   "source": [
    "student.pop(\"joe\")"
   ]
  },
  {
   "cell_type": "code",
   "execution_count": 40,
   "id": "6bac00e3",
   "metadata": {
    "scrolled": true
   },
   "outputs": [
    {
     "data": {
      "text/plain": [
       "{'sam': 75, 'leo': 95, 'tom': 83}"
      ]
     },
     "execution_count": 40,
     "metadata": {},
     "output_type": "execute_result"
    }
   ],
   "source": [
    "student"
   ]
  },
  {
   "cell_type": "markdown",
   "id": "adde68d5",
   "metadata": {},
   "source": [
    "## DELETE"
   ]
  },
  {
   "cell_type": "code",
   "execution_count": 41,
   "id": "e860ec48",
   "metadata": {},
   "outputs": [],
   "source": [
    "# it will delete the specified key and value same as pop\n",
    "# ->> del dict[\"key\"]"
   ]
  },
  {
   "cell_type": "code",
   "execution_count": 49,
   "id": "35b28c2c",
   "metadata": {},
   "outputs": [],
   "source": [
    "student={\"sam\":75,\"leo\":95,\"joe\":50,'tom': 83}"
   ]
  },
  {
   "cell_type": "code",
   "execution_count": 50,
   "id": "4d84af94",
   "metadata": {},
   "outputs": [],
   "source": [
    "del student[\"leo\"]"
   ]
  },
  {
   "cell_type": "code",
   "execution_count": 51,
   "id": "1b41d174",
   "metadata": {},
   "outputs": [
    {
     "data": {
      "text/plain": [
       "{'sam': 75, 'joe': 50, 'tom': 83}"
      ]
     },
     "execution_count": 51,
     "metadata": {},
     "output_type": "execute_result"
    }
   ],
   "source": [
    "student"
   ]
  },
  {
   "cell_type": "code",
   "execution_count": 52,
   "id": "8c3d9357",
   "metadata": {},
   "outputs": [],
   "source": [
    "# to delete the whole dict\n",
    "# ->> del dict"
   ]
  },
  {
   "cell_type": "code",
   "execution_count": 53,
   "id": "369ea8fd",
   "metadata": {},
   "outputs": [],
   "source": [
    "del student"
   ]
  },
  {
   "cell_type": "code",
   "execution_count": 56,
   "id": "c706f0a8",
   "metadata": {},
   "outputs": [
    {
     "ename": "NameError",
     "evalue": "name 'student' is not defined",
     "output_type": "error",
     "traceback": [
      "\u001b[1;31m---------------------------------------------------------------------------\u001b[0m",
      "\u001b[1;31mNameError\u001b[0m                                 Traceback (most recent call last)",
      "\u001b[1;32m<ipython-input-56-98eabfd95b2a>\u001b[0m in \u001b[0;36m<module>\u001b[1;34m\u001b[0m\n\u001b[1;32m----> 1\u001b[1;33m \u001b[0mstudent\u001b[0m\u001b[1;33m\u001b[0m\u001b[1;33m\u001b[0m\u001b[0m\n\u001b[0m",
      "\u001b[1;31mNameError\u001b[0m: name 'student' is not defined"
     ]
    }
   ],
   "source": [
    "student"
   ]
  },
  {
   "cell_type": "code",
   "execution_count": 47,
   "id": "db0dd503",
   "metadata": {},
   "outputs": [],
   "source": [
    "# to give more values to key"
   ]
  },
  {
   "cell_type": "code",
   "execution_count": 20,
   "id": "bcb95374",
   "metadata": {},
   "outputs": [],
   "source": [
    "a={\"sam\":[75,50,45,90,10],\"leo\":[95,89,36,72,100],\"joe\":[50,45,60,71,58]}"
   ]
  },
  {
   "cell_type": "code",
   "execution_count": 62,
   "id": "237b32aa",
   "metadata": {},
   "outputs": [
    {
     "name": "stdout",
     "output_type": "stream",
     "text": [
      "[75, 50, 45, 90, 10]\n",
      "[95, 89, 36, 72, 100]\n",
      "[50, 45, 60, 71, 58]\n"
     ]
    }
   ],
   "source": [
    "for i in a.values():\n",
    "    print(i)"
   ]
  },
  {
   "cell_type": "code",
   "execution_count": 27,
   "id": "b0647a5b",
   "metadata": {},
   "outputs": [
    {
     "name": "stdout",
     "output_type": "stream",
     "text": [
      "sam [75, 50, 45, 90, 10]\n",
      "leo [95, 89, 36, 72, 100]\n",
      "joe [50, 45, 60, 71, 58]\n"
     ]
    }
   ],
   "source": [
    "for key,values in a.items():\n",
    "    print(key,values)"
   ]
  },
  {
   "cell_type": "code",
   "execution_count": 61,
   "id": "6651e413",
   "metadata": {},
   "outputs": [
    {
     "name": "stdout",
     "output_type": "stream",
     "text": [
      "sam [75, 50, 45, 90, 10]\n",
      "leo [95, 89, 36, 72, 100]\n",
      "joe [50, 45, 60, 71, 58]\n"
     ]
    }
   ],
   "source": [
    "for i in a:\n",
    "    print (i,a[i])"
   ]
  },
  {
   "cell_type": "code",
   "execution_count": 63,
   "id": "3728a7cd",
   "metadata": {},
   "outputs": [
    {
     "name": "stdout",
     "output_type": "stream",
     "text": [
      "50\n",
      "45\n",
      "60\n",
      "71\n",
      "58\n"
     ]
    }
   ],
   "source": [
    "for i in a[\"joe\"]:\n",
    "    print(i)"
   ]
  }
 ],
 "metadata": {
  "kernelspec": {
   "display_name": "Python 3",
   "language": "python",
   "name": "python3"
  },
  "language_info": {
   "codemirror_mode": {
    "name": "ipython",
    "version": 3
   },
   "file_extension": ".py",
   "mimetype": "text/x-python",
   "name": "python",
   "nbconvert_exporter": "python",
   "pygments_lexer": "ipython3",
   "version": "3.8.8"
  }
 },
 "nbformat": 4,
 "nbformat_minor": 5
}
