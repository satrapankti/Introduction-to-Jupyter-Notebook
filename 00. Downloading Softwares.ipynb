{
 "cells": [
  {
   "cell_type": "markdown",
   "id": "eaa7282d",
   "metadata": {},
   "source": [
    "# DOWNLOADING SOFTWARES"
   ]
  },
  {
   "cell_type": "markdown",
   "id": "55938921",
   "metadata": {},
   "source": [
    "all the apps will take approx 10-20 mins to install     \n",
    "install all the apps in sequence as printed only"
   ]
  },
  {
   "cell_type": "markdown",
   "id": "59291e43",
   "metadata": {},
   "source": [
    "# 1. ANACONDA NAVIGATOR"
   ]
  },
  {
   "cell_type": "markdown",
   "id": "753afc61",
   "metadata": {},
   "source": [
    "type \"Anaconda Navigator\" in google   \n",
    "click on -> \"www.anaconda.com\"   \n",
    "scroll down to -> Anaconda Installers OR    \n",
    "in the front page will find a pop of anaconda,Individual Edition -> download for latest version    \n",
    "as the file gets downloaded open it[i.e. exe.]    \n",
    "Install for ALL USERS    \n",
    "-> I agree,all users ->allow app to make difference -> Yes    \n",
    "keep the destination as it is dont browse     \n",
    "click next -> Advanced options -> register     \n",
    "Anaconda as my default python [recommended] and then Install    \n",
    "when completed click next and click finish.   "
   ]
  },
  {
   "cell_type": "markdown",
   "id": "f3d44c64",
   "metadata": {},
   "source": [
    "# 2. JUPYTER NOTEBOOK"
   ]
  },
  {
   "cell_type": "markdown",
   "id": "a589fb37",
   "metadata": {},
   "source": [
    "if in the laptop search box you type Jupyter Notebook and find it as an app then open it OR     \n",
    "open Anaconda Navigator and then launch Jupyter Notebook    \n",
    "the open Jupter Notebook       \n",
    "a text script will open up(in Black)        \n",
    "wait for 10-20 sec and click spacebar it will redirect to your browser opening file           \n",
    "you can also wait for a min it will automatically redirect      "
   ]
  },
  {
   "cell_type": "markdown",
   "id": "1a5b6ae1",
   "metadata": {},
   "source": [
    "### New Folder"
   ]
  },
  {
   "cell_type": "markdown",
   "id": "d82e2518",
   "metadata": {},
   "source": [
    "in the browser open home page of Jupyter Notebook         \n",
    "top right hand side there is a new tab click        \n",
    "-> new -> folder        \n",
    "the file will be created in the home page as default \"Untitled Folder\"       \n",
    "-> click on checkbox and upper left hand rename it and if want to delete click the red bin"
   ]
  },
  {
   "cell_type": "markdown",
   "id": "e0903815",
   "metadata": {},
   "source": [
    "###  New Jupyter Python Notebook"
   ]
  },
  {
   "cell_type": "markdown",
   "id": "affd7db0",
   "metadata": {},
   "source": [
    "open the folder you want to create a new Python coding notebook       \n",
    "upper right side -> new and then       \n",
    "Python will redirect to a new tab opening \"Untitled\"      \n",
    "rename it by clicking on upper left file name and then rename it"
   ]
  },
  {
   "cell_type": "markdown",
   "id": "b90491f9",
   "metadata": {},
   "source": [
    "# 3. PYTHON"
   ]
  },
  {
   "cell_type": "markdown",
   "id": "86852002",
   "metadata": {},
   "source": [
    "type \"Python.org\" in google            \n",
    "the page will open then click on \"Downloads tab\"          \n",
    "by simply moving the cursor towards the tab the pop will have the latest version box for download OR          \n",
    "in downloads will find it as a 1st result          \n",
    "as the file gets downloaded open it [.exe.] for installation         \n",
    "click on both the boxes as the Install Python pop opens ie. Install launcher for all users         \n",
    "add Python to PATH           \n",
    "then click on Install now          \n",
    "allow this app to make changes -> Yes      \n",
    "Installing will happen and will take time       \n",
    "Setup was sucessful -> close        \n",
    "* if you want can run your code in Idle Python Shell also.      "
   ]
  },
  {
   "cell_type": "markdown",
   "id": "b67c3031",
   "metadata": {},
   "source": [
    "# 4. R"
   ]
  },
  {
   "cell_type": "markdown",
   "id": "c2de5c77",
   "metadata": {},
   "source": [
    "search download R for windows and open the link \"cran.r-project.org\"       \n",
    "on left top corner you will find download R__ for windows click and download   \n",
    "open the downloaded file [R.exe.]      \n",
    "it will show do you want to allow to make changes in the desktop -> Yes    \n",
    "setup language -> English       \n",
    "Information -> scroll -> next      \n",
    "destination loacation -> next     \n",
    "components -> all should be selected -> next         \n",
    "startup options -> No -> next           \n",
    "select start menu folder -> next (dont select anything)       \n",
    "select additional tasks only select all registry -> next      \n",
    "it will Install       \n",
    "complete setup wizard -> Finish      "
   ]
  },
  {
   "cell_type": "markdown",
   "id": "bcc10516",
   "metadata": {},
   "source": [
    "# 5. R STUDIO"
   ]
  },
  {
   "cell_type": "markdown",
   "id": "a18f7c02",
   "metadata": {},
   "source": [
    "search download R Studio     \n",
    "click on 1st link \"rstudio.com>products>rstudio>download\"        \n",
    "scroll down to R Studio desktop free -> Download         \n",
    "clcik on big blue button -> download R Studio for windows        \n",
    "the file will download as R.Studio.exe         \n",
    "open the file         \n",
    "do you want ti make changes -> Yes         \n",
    "welcome setup -> next                \n",
    "choose install location -> next               \n",
    "choose start menu folder -> install          \n",
    "completing -> Finish     "
   ]
  },
  {
   "cell_type": "markdown",
   "id": "2c00f001",
   "metadata": {},
   "source": [
    "# 6.MY SQL"
   ]
  },
  {
   "cell_type": "markdown",
   "id": "81d1fde2",
   "metadata": {},
   "source": [
    "type mysql.com on google                                                             \n",
    "go to downloads tab scroll down                                                   \n",
    "\"Select MySQL community (GPL) Downloads\"                                                   \n",
    "MySQL installer for windows -> choose 1st download -> no thanks -> start download                                               \n",
    "open .exe file                                                   \n",
    "custom -> next                                                   \n",
    "mysql ++ -> 8.0 choose 1st                                                   \n",
    "-application + workbench+ choose 1st                                                   \n",
    "-> next -> execute                                                   \n",
    "I Agree -> Install -> close                                                   \n",
    "-> next -> execute -> next                                                   \n",
    "-> execute -> next -> next                                                   \n",
    "Port 3306 -> next                                                   \n",
    "2nd use legacy -> next                                                   \n",
    "create password (remember it) -> next -> next -> execute -> Finish -> next -> finish                                             \n",
    "it will open workbench\n",
    "-> local instance -> give the earlier password                                                   \n",
    "top right 3 box, click last button, left schemast, place cursor on 1                                                   \n",
    "show databases;"
   ]
  }
 ],
 "metadata": {
  "kernelspec": {
   "display_name": "Python 3 (ipykernel)",
   "language": "python",
   "name": "python3"
  },
  "language_info": {
   "codemirror_mode": {
    "name": "ipython",
    "version": 3
   },
   "file_extension": ".py",
   "mimetype": "text/x-python",
   "name": "python",
   "nbconvert_exporter": "python",
   "pygments_lexer": "ipython3",
   "version": "3.9.12"
  }
 },
 "nbformat": 4,
 "nbformat_minor": 5
}
