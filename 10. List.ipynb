{
 "cells": [
  {
   "cell_type": "markdown",
   "id": "4cd6908c",
   "metadata": {},
   "source": [
    "# LIST"
   ]
  },
  {
   "cell_type": "code",
   "execution_count": 1,
   "id": "ef0dc5c6",
   "metadata": {},
   "outputs": [],
   "source": [
    "# it is an object in a ordered collection of one or more data\n",
    "# they are mutable i.e they can be modified\n",
    "# they are always in a square [] brackets \n",
    "# when a list is created each element is at a position which is known as index\n",
    "# elements in the list always starts with 0 index i.e in ascending order\n",
    "# the last element in list is called as -1 index which is negative indexing i.e. in decending order\n",
    "# to find the length or the total no. of elements in the list type ->> len(l_) it is in circle brackets"
   ]
  },
  {
   "cell_type": "code",
   "execution_count": 9,
   "id": "4c9d907d",
   "metadata": {},
   "outputs": [],
   "source": [
    "l1=[5,10,15,20,25]"
   ]
  },
  {
   "cell_type": "code",
   "execution_count": 10,
   "id": "ddf417c6",
   "metadata": {
    "scrolled": true
   },
   "outputs": [
    {
     "data": {
      "text/plain": [
       "[5, 10, 15, 20, 25]"
      ]
     },
     "execution_count": 10,
     "metadata": {},
     "output_type": "execute_result"
    }
   ],
   "source": [
    "l1"
   ]
  },
  {
   "cell_type": "markdown",
   "id": "7ab7cc87",
   "metadata": {},
   "source": [
    "## LIST INDEXING"
   ]
  },
  {
   "cell_type": "code",
   "execution_count": 11,
   "id": "48b37e90",
   "metadata": {},
   "outputs": [
    {
     "data": {
      "text/plain": [
       "20"
      ]
     },
     "execution_count": 11,
     "metadata": {},
     "output_type": "execute_result"
    }
   ],
   "source": [
    "l1[3]"
   ]
  },
  {
   "cell_type": "code",
   "execution_count": 16,
   "id": "264f30df",
   "metadata": {},
   "outputs": [
    {
     "data": {
      "text/plain": [
       "15"
      ]
     },
     "execution_count": 16,
     "metadata": {},
     "output_type": "execute_result"
    }
   ],
   "source": [
    "l1[-3]"
   ]
  },
  {
   "cell_type": "code",
   "execution_count": 13,
   "id": "43be433c",
   "metadata": {},
   "outputs": [
    {
     "data": {
      "text/plain": [
       "5"
      ]
     },
     "execution_count": 13,
     "metadata": {},
     "output_type": "execute_result"
    }
   ],
   "source": [
    "len(l1)"
   ]
  },
  {
   "cell_type": "markdown",
   "id": "b714662f",
   "metadata": {},
   "source": [
    "## LIST SLICING"
   ]
  },
  {
   "cell_type": "code",
   "execution_count": 17,
   "id": "387f078b",
   "metadata": {},
   "outputs": [],
   "source": [
    "# it is used to slice multiple value from the list with the help of : colon operator\n",
    "# l_[first no. to start from : last no. after value till] till the no. you want, type the next value\n",
    "# l_[:] if you don't provide no. it will start from the very first and end upto the last no. giving result as full list value\n",
    "# here it will consider as per ascending order values only"
   ]
  },
  {
   "cell_type": "code",
   "execution_count": 8,
   "id": "cf26d53d",
   "metadata": {},
   "outputs": [],
   "source": [
    "l1=[25,True,\"hey\",5,0]"
   ]
  },
  {
   "cell_type": "code",
   "execution_count": 19,
   "id": "21c625c6",
   "metadata": {},
   "outputs": [
    {
     "data": {
      "text/plain": [
       "5"
      ]
     },
     "execution_count": 19,
     "metadata": {},
     "output_type": "execute_result"
    }
   ],
   "source": [
    "len(l1)"
   ]
  },
  {
   "cell_type": "code",
   "execution_count": 22,
   "id": "253435b3",
   "metadata": {},
   "outputs": [
    {
     "data": {
      "text/plain": [
       "[True, 'hey']"
      ]
     },
     "execution_count": 22,
     "metadata": {},
     "output_type": "execute_result"
    }
   ],
   "source": [
    "l1[1:3]"
   ]
  },
  {
   "cell_type": "code",
   "execution_count": 25,
   "id": "031709c4",
   "metadata": {},
   "outputs": [
    {
     "data": {
      "text/plain": [
       "[True, 'hey', 5]"
      ]
     },
     "execution_count": 25,
     "metadata": {},
     "output_type": "execute_result"
    }
   ],
   "source": [
    "l1[1:-1]"
   ]
  },
  {
   "cell_type": "code",
   "execution_count": 26,
   "id": "fda7d764",
   "metadata": {},
   "outputs": [
    {
     "data": {
      "text/plain": [
       "[25, True, 'hey', 5, 0]"
      ]
     },
     "execution_count": 26,
     "metadata": {},
     "output_type": "execute_result"
    }
   ],
   "source": [
    "l1[:]"
   ]
  },
  {
   "cell_type": "code",
   "execution_count": 27,
   "id": "68695f9f",
   "metadata": {},
   "outputs": [
    {
     "data": {
      "text/plain": [
       "['hey', 5, 0]"
      ]
     },
     "execution_count": 27,
     "metadata": {},
     "output_type": "execute_result"
    }
   ],
   "source": [
    "l1[2:]"
   ]
  },
  {
   "cell_type": "code",
   "execution_count": 28,
   "id": "fa4f6471",
   "metadata": {},
   "outputs": [
    {
     "data": {
      "text/plain": [
       "[25, True, 'hey', 5]"
      ]
     },
     "execution_count": 28,
     "metadata": {},
     "output_type": "execute_result"
    }
   ],
   "source": [
    "l1[:-1]"
   ]
  },
  {
   "cell_type": "markdown",
   "id": "df3bfa7d",
   "metadata": {},
   "source": [
    "## SKIPPING ELEMENTS"
   ]
  },
  {
   "cell_type": "code",
   "execution_count": 29,
   "id": "6dffabb9",
   "metadata": {},
   "outputs": [],
   "source": [
    "# if you want to skip few elements use :: double colon\n",
    "# l_[1st no. to start from:last no. till when :after how much no. you want to seperate]\n",
    "# l_[::]"
   ]
  },
  {
   "cell_type": "code",
   "execution_count": 10,
   "id": "81eb5f7b",
   "metadata": {},
   "outputs": [],
   "source": [
    "l1=[5,60,25,9,70,47,0,39]"
   ]
  },
  {
   "cell_type": "code",
   "execution_count": 31,
   "id": "8788f705",
   "metadata": {},
   "outputs": [
    {
     "data": {
      "text/plain": [
       "[60, 9, 47]"
      ]
     },
     "execution_count": 31,
     "metadata": {},
     "output_type": "execute_result"
    }
   ],
   "source": [
    "l1[1:6:2]"
   ]
  },
  {
   "cell_type": "code",
   "execution_count": 33,
   "id": "761c5090",
   "metadata": {},
   "outputs": [],
   "source": [
    "# to REVERSE the list"
   ]
  },
  {
   "cell_type": "code",
   "execution_count": 32,
   "id": "f51cd49b",
   "metadata": {},
   "outputs": [
    {
     "data": {
      "text/plain": [
       "[39, 0, 47, 70, 9, 25, 60, 5]"
      ]
     },
     "execution_count": 32,
     "metadata": {},
     "output_type": "execute_result"
    }
   ],
   "source": [
    "l1[::-1]"
   ]
  },
  {
   "cell_type": "code",
   "execution_count": 12,
   "id": "5f81611b",
   "metadata": {},
   "outputs": [
    {
     "data": {
      "text/plain": [
       "[39, 0, 47, 70, 9, 25]"
      ]
     },
     "execution_count": 12,
     "metadata": {},
     "output_type": "execute_result"
    }
   ],
   "source": [
    "l1[-1:1:-1]"
   ]
  },
  {
   "cell_type": "code",
   "execution_count": 7,
   "id": "a23ace95",
   "metadata": {},
   "outputs": [
    {
     "data": {
      "text/plain": [
       "[39, 47, 9]"
      ]
     },
     "execution_count": 7,
     "metadata": {},
     "output_type": "execute_result"
    }
   ],
   "source": [
    "l1[-1:1:-2]"
   ]
  }
 ],
 "metadata": {
  "kernelspec": {
   "display_name": "Python 3",
   "language": "python",
   "name": "python3"
  },
  "language_info": {
   "codemirror_mode": {
    "name": "ipython",
    "version": 3
   },
   "file_extension": ".py",
   "mimetype": "text/x-python",
   "name": "python",
   "nbconvert_exporter": "python",
   "pygments_lexer": "ipython3",
   "version": "3.8.8"
  }
 },
 "nbformat": 4,
 "nbformat_minor": 5
}
