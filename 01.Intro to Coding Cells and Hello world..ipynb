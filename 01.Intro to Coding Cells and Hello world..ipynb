{
 "cells": [
  {
   "cell_type": "code",
   "execution_count": 1,
   "id": "7c84a252",
   "metadata": {},
   "outputs": [],
   "source": [
    "# command mode will be in blue \n",
    "# edit mode will be in green\n",
    "# type escape to move from edit-> command mode"
   ]
  },
  {
   "cell_type": "code",
   "execution_count": 2,
   "id": "a03a0454",
   "metadata": {},
   "outputs": [],
   "source": [
    "# to run the code type ctrl+enter and if want next cell type shift+enter"
   ]
  },
  {
   "cell_type": "code",
   "execution_count": 3,
   "id": "9c23229e",
   "metadata": {},
   "outputs": [],
   "source": [
    "# to add a cell above or below just type a or b in command mode of the cell required\n",
    "# to delete a cell type dd in command mode"
   ]
  },
  {
   "cell_type": "code",
   "execution_count": 4,
   "id": "c547fbdd",
   "metadata": {},
   "outputs": [],
   "source": [
    "# code always start with alphabets or numbers"
   ]
  },
  {
   "cell_type": "code",
   "execution_count": 5,
   "id": "a53c5a97",
   "metadata": {},
   "outputs": [],
   "source": [
    "# to print or typing words you need to type-> print(\"\")\n",
    "# the word print with parantheses/ brackets and quotation is must"
   ]
  },
  {
   "cell_type": "code",
   "execution_count": 10,
   "id": "a49d8a2e",
   "metadata": {},
   "outputs": [],
   "source": [
    "# to add markdown i.e. special effect to a code then \n",
    "# in command mode type 1/2/3 as per size it will decrease with the increasing numbers and then type your code\n",
    "# by adding # and then changing upper ribbon from code-> markdown"
   ]
  },
  {
   "cell_type": "code",
   "execution_count": 11,
   "id": "820bc78e",
   "metadata": {},
   "outputs": [],
   "source": [
    "# for commenting like above just add # before the text \n",
    "# it will only add note but the code will not execute\n",
    "# for adding # to all the line type->ctrl+/ and vice versa for the same"
   ]
  },
  {
   "cell_type": "markdown",
   "id": "a8a2189c",
   "metadata": {},
   "source": [
    "# Welcome to Python "
   ]
  },
  {
   "cell_type": "code",
   "execution_count": 12,
   "id": "d17a3508",
   "metadata": {},
   "outputs": [
    {
     "name": "stdout",
     "output_type": "stream",
     "text": [
      "Hello World\n"
     ]
    }
   ],
   "source": [
    "print(\"Hello World\")"
   ]
  },
  {
   "cell_type": "code",
   "execution_count": 14,
   "id": "523bae2b",
   "metadata": {},
   "outputs": [
    {
     "name": "stdout",
     "output_type": "stream",
     "text": [
      "123\n"
     ]
    }
   ],
   "source": [
    "print(\"123\")"
   ]
  }
 ],
 "metadata": {
  "kernelspec": {
   "display_name": "Python 3",
   "language": "python",
   "name": "python3"
  },
  "language_info": {
   "codemirror_mode": {
    "name": "ipython",
    "version": 3
   },
   "file_extension": ".py",
   "mimetype": "text/x-python",
   "name": "python",
   "nbconvert_exporter": "python",
   "pygments_lexer": "ipython3",
   "version": "3.8.8"
  }
 },
 "nbformat": 4,
 "nbformat_minor": 5
}
