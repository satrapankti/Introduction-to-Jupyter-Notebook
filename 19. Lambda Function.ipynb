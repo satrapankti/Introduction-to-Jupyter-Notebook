{
 "cells": [
  {
   "cell_type": "markdown",
   "id": "cfbada34",
   "metadata": {},
   "source": [
    "# LAMBDA FUNCTION"
   ]
  },
  {
   "cell_type": "code",
   "execution_count": 1,
   "id": "4d2694bf",
   "metadata": {},
   "outputs": [],
   "source": [
    "# it helps in creating small anonymous function\n",
    "# it takes any no. of arguments but can have only one expression\n",
    "# ->> lambda arugments:expression"
   ]
  },
  {
   "cell_type": "code",
   "execution_count": 2,
   "id": "f42bb999",
   "metadata": {},
   "outputs": [],
   "source": [
    "def sq(x):\n",
    "    return (x*x)"
   ]
  },
  {
   "cell_type": "code",
   "execution_count": 3,
   "id": "9093a3ba",
   "metadata": {},
   "outputs": [
    {
     "data": {
      "text/plain": [
       "4"
      ]
     },
     "execution_count": 3,
     "metadata": {},
     "output_type": "execute_result"
    }
   ],
   "source": [
    "sq(2)"
   ]
  },
  {
   "cell_type": "code",
   "execution_count": 4,
   "id": "fd9b3f2d",
   "metadata": {},
   "outputs": [
    {
     "data": {
      "text/plain": [
       "9"
      ]
     },
     "execution_count": 4,
     "metadata": {},
     "output_type": "execute_result"
    }
   ],
   "source": [
    "sq(3)"
   ]
  },
  {
   "cell_type": "code",
   "execution_count": 6,
   "id": "b3a3a594",
   "metadata": {},
   "outputs": [],
   "source": [
    "square=lambda x :x*x"
   ]
  },
  {
   "cell_type": "code",
   "execution_count": 7,
   "id": "a72fcad5",
   "metadata": {},
   "outputs": [
    {
     "data": {
      "text/plain": [
       "4"
      ]
     },
     "execution_count": 7,
     "metadata": {},
     "output_type": "execute_result"
    }
   ],
   "source": [
    "square(2)"
   ]
  },
  {
   "cell_type": "code",
   "execution_count": 9,
   "id": "5c2a9677",
   "metadata": {},
   "outputs": [
    {
     "data": {
      "text/plain": [
       "9"
      ]
     },
     "execution_count": 9,
     "metadata": {},
     "output_type": "execute_result"
    }
   ],
   "source": [
    "square(3)"
   ]
  },
  {
   "cell_type": "code",
   "execution_count": 11,
   "id": "0755aebf",
   "metadata": {},
   "outputs": [],
   "source": [
    "def add(x,y):\n",
    "      return (x+y)"
   ]
  },
  {
   "cell_type": "code",
   "execution_count": 12,
   "id": "06e0ff56",
   "metadata": {},
   "outputs": [
    {
     "data": {
      "text/plain": [
       "5"
      ]
     },
     "execution_count": 12,
     "metadata": {},
     "output_type": "execute_result"
    }
   ],
   "source": [
    "add(2,3)"
   ]
  },
  {
   "cell_type": "code",
   "execution_count": 13,
   "id": "f4829ab7",
   "metadata": {},
   "outputs": [
    {
     "data": {
      "text/plain": [
       "13"
      ]
     },
     "execution_count": 13,
     "metadata": {},
     "output_type": "execute_result"
    }
   ],
   "source": [
    "add(5,8)"
   ]
  },
  {
   "cell_type": "code",
   "execution_count": 15,
   "id": "7a3a642e",
   "metadata": {},
   "outputs": [],
   "source": [
    "addition=lambda x,y:x+y"
   ]
  },
  {
   "cell_type": "code",
   "execution_count": 16,
   "id": "00ef1de8",
   "metadata": {},
   "outputs": [
    {
     "data": {
      "text/plain": [
       "11"
      ]
     },
     "execution_count": 16,
     "metadata": {},
     "output_type": "execute_result"
    }
   ],
   "source": [
    "addition(5,6)"
   ]
  },
  {
   "cell_type": "code",
   "execution_count": 17,
   "id": "faa0d7bd",
   "metadata": {},
   "outputs": [
    {
     "data": {
      "text/plain": [
       "110"
      ]
     },
     "execution_count": 17,
     "metadata": {},
     "output_type": "execute_result"
    }
   ],
   "source": [
    "addition(65,45)"
   ]
  },
  {
   "cell_type": "code",
   "execution_count": 19,
   "id": "e67afa90",
   "metadata": {},
   "outputs": [],
   "source": [
    "def greater(x):\n",
    "    if x>10:\n",
    "        print(\"Great\")\n",
    "    else:\n",
    "        print(\"Less\")"
   ]
  },
  {
   "cell_type": "code",
   "execution_count": 20,
   "id": "6822deef",
   "metadata": {},
   "outputs": [
    {
     "name": "stdout",
     "output_type": "stream",
     "text": [
      "Great\n"
     ]
    }
   ],
   "source": [
    "greater(25)"
   ]
  },
  {
   "cell_type": "code",
   "execution_count": 21,
   "id": "e98a2849",
   "metadata": {},
   "outputs": [
    {
     "name": "stdout",
     "output_type": "stream",
     "text": [
      "Less\n"
     ]
    }
   ],
   "source": [
    "greater(2)"
   ]
  },
  {
   "cell_type": "code",
   "execution_count": 24,
   "id": "7fc13236",
   "metadata": {},
   "outputs": [],
   "source": [
    "greater =lambda x:\"greater\" if x>5 else \"lesser\""
   ]
  },
  {
   "cell_type": "code",
   "execution_count": 25,
   "id": "bc536226",
   "metadata": {},
   "outputs": [
    {
     "data": {
      "text/plain": [
       "'greater'"
      ]
     },
     "execution_count": 25,
     "metadata": {},
     "output_type": "execute_result"
    }
   ],
   "source": [
    "greater(6)"
   ]
  },
  {
   "cell_type": "code",
   "execution_count": 26,
   "id": "c6f9fad8",
   "metadata": {},
   "outputs": [
    {
     "data": {
      "text/plain": [
       "'lesser'"
      ]
     },
     "execution_count": 26,
     "metadata": {},
     "output_type": "execute_result"
    }
   ],
   "source": [
    "greater(2)"
   ]
  },
  {
   "cell_type": "code",
   "execution_count": 27,
   "id": "76f0dcc9",
   "metadata": {},
   "outputs": [],
   "source": [
    "sumgreater=lambda x,y:\"True\" if x+y>10 else \"False\""
   ]
  },
  {
   "cell_type": "code",
   "execution_count": 28,
   "id": "aae5c6bd",
   "metadata": {},
   "outputs": [
    {
     "data": {
      "text/plain": [
       "'False'"
      ]
     },
     "execution_count": 28,
     "metadata": {},
     "output_type": "execute_result"
    }
   ],
   "source": [
    "sumgreater(5,1)"
   ]
  },
  {
   "cell_type": "code",
   "execution_count": 31,
   "id": "8761b7a4",
   "metadata": {},
   "outputs": [
    {
     "data": {
      "text/plain": [
       "'True'"
      ]
     },
     "execution_count": 31,
     "metadata": {},
     "output_type": "execute_result"
    }
   ],
   "source": [
    "sumgreater(3,9)"
   ]
  },
  {
   "cell_type": "code",
   "execution_count": 32,
   "id": "e031349c",
   "metadata": {},
   "outputs": [],
   "source": [
    "odd=lambda x:\"odd\" if x%2!=0 else \"even\""
   ]
  },
  {
   "cell_type": "code",
   "execution_count": 33,
   "id": "35d55216",
   "metadata": {},
   "outputs": [
    {
     "data": {
      "text/plain": [
       "'odd'"
      ]
     },
     "execution_count": 33,
     "metadata": {},
     "output_type": "execute_result"
    }
   ],
   "source": [
    "odd(5)"
   ]
  },
  {
   "cell_type": "code",
   "execution_count": 34,
   "id": "ca574650",
   "metadata": {},
   "outputs": [
    {
     "data": {
      "text/plain": [
       "'even'"
      ]
     },
     "execution_count": 34,
     "metadata": {},
     "output_type": "execute_result"
    }
   ],
   "source": [
    "odd(10)"
   ]
  },
  {
   "cell_type": "code",
   "execution_count": 35,
   "id": "f1edd620",
   "metadata": {},
   "outputs": [],
   "source": [
    "even=lambda x:\"even\" if x%2==0 else \"odd\""
   ]
  },
  {
   "cell_type": "code",
   "execution_count": 37,
   "id": "b61687aa",
   "metadata": {},
   "outputs": [
    {
     "data": {
      "text/plain": [
       "'even'"
      ]
     },
     "execution_count": 37,
     "metadata": {},
     "output_type": "execute_result"
    }
   ],
   "source": [
    "even (10)"
   ]
  },
  {
   "cell_type": "code",
   "execution_count": 38,
   "id": "a66e0c69",
   "metadata": {},
   "outputs": [
    {
     "data": {
      "text/plain": [
       "'odd'"
      ]
     },
     "execution_count": 38,
     "metadata": {},
     "output_type": "execute_result"
    }
   ],
   "source": [
    "even(5)"
   ]
  }
 ],
 "metadata": {
  "kernelspec": {
   "display_name": "Python 3",
   "language": "python",
   "name": "python3"
  },
  "language_info": {
   "codemirror_mode": {
    "name": "ipython",
    "version": 3
   },
   "file_extension": ".py",
   "mimetype": "text/x-python",
   "name": "python",
   "nbconvert_exporter": "python",
   "pygments_lexer": "ipython3",
   "version": "3.8.8"
  }
 },
 "nbformat": 4,
 "nbformat_minor": 5
}
