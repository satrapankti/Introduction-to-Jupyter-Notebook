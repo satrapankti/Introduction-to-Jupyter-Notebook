{
 "cells": [
  {
   "cell_type": "markdown",
   "id": "d9293081",
   "metadata": {},
   "source": [
    "# STRINGS"
   ]
  },
  {
   "cell_type": "code",
   "execution_count": 23,
   "id": "0f382f0c",
   "metadata": {},
   "outputs": [],
   "source": [
    "# it can be defined by single, double or three double quotations.\n",
    "# the methods are same as per list.\n",
    "# you can find the length of the string by ->> len(_)"
   ]
  },
  {
   "cell_type": "code",
   "execution_count": 25,
   "id": "26ca6aa3",
   "metadata": {},
   "outputs": [],
   "source": [
    "a=\"hello i'm a student\""
   ]
  },
  {
   "cell_type": "code",
   "execution_count": 15,
   "id": "f3e90cbc",
   "metadata": {},
   "outputs": [
    {
     "data": {
      "text/plain": [
       "\"hello i'm a student\""
      ]
     },
     "execution_count": 15,
     "metadata": {},
     "output_type": "execute_result"
    }
   ],
   "source": [
    "a"
   ]
  },
  {
   "cell_type": "code",
   "execution_count": 26,
   "id": "f0eb02e6",
   "metadata": {},
   "outputs": [
    {
     "data": {
      "text/plain": [
       "19"
      ]
     },
     "execution_count": 26,
     "metadata": {},
     "output_type": "execute_result"
    }
   ],
   "source": [
    "len(a)"
   ]
  },
  {
   "cell_type": "markdown",
   "id": "c33ca0c0",
   "metadata": {},
   "source": [
    "## STRING INDEXING"
   ]
  },
  {
   "cell_type": "code",
   "execution_count": 5,
   "id": "5a4e0159",
   "metadata": {},
   "outputs": [],
   "source": [
    "# the first element starts with 0 and last one with -1 i.e. negative indexing\n",
    "# ->> string[_]"
   ]
  },
  {
   "cell_type": "code",
   "execution_count": 16,
   "id": "dd06cb99",
   "metadata": {},
   "outputs": [],
   "source": [
    "a=(\"this is a string\")"
   ]
  },
  {
   "cell_type": "code",
   "execution_count": 17,
   "id": "3844451b",
   "metadata": {},
   "outputs": [
    {
     "data": {
      "text/plain": [
       "'this is a string'"
      ]
     },
     "execution_count": 17,
     "metadata": {},
     "output_type": "execute_result"
    }
   ],
   "source": [
    "a"
   ]
  },
  {
   "cell_type": "code",
   "execution_count": 18,
   "id": "f2519030",
   "metadata": {},
   "outputs": [
    {
     "data": {
      "text/plain": [
       "'i'"
      ]
     },
     "execution_count": 18,
     "metadata": {},
     "output_type": "execute_result"
    }
   ],
   "source": [
    "a[2]"
   ]
  },
  {
   "cell_type": "code",
   "execution_count": 21,
   "id": "b956ae80",
   "metadata": {},
   "outputs": [
    {
     "data": {
      "text/plain": [
       "'r'"
      ]
     },
     "execution_count": 21,
     "metadata": {},
     "output_type": "execute_result"
    }
   ],
   "source": [
    "a[-4]"
   ]
  },
  {
   "cell_type": "markdown",
   "id": "6ec021b1",
   "metadata": {},
   "source": [
    "## STRING SLICING"
   ]
  },
  {
   "cell_type": "code",
   "execution_count": 27,
   "id": "ef4bdf82",
   "metadata": {},
   "outputs": [],
   "source": [
    "# it is used to slice multiple character from the string with the help of : colon operator\n",
    "# l[:] first for the start and last for till when after value\n",
    "# if you dont enter any value it will run the whole again \n",
    "# it will consider in ascending order only"
   ]
  },
  {
   "cell_type": "code",
   "execution_count": 32,
   "id": "29326a49",
   "metadata": {},
   "outputs": [],
   "source": [
    "a=(\"this is a string\")"
   ]
  },
  {
   "cell_type": "code",
   "execution_count": 29,
   "id": "c239628d",
   "metadata": {},
   "outputs": [
    {
     "data": {
      "text/plain": [
       "'this '"
      ]
     },
     "execution_count": 29,
     "metadata": {},
     "output_type": "execute_result"
    }
   ],
   "source": [
    "a[:5]"
   ]
  },
  {
   "cell_type": "code",
   "execution_count": 35,
   "id": "6aae3298",
   "metadata": {},
   "outputs": [
    {
     "data": {
      "text/plain": [
       "'is a'"
      ]
     },
     "execution_count": 35,
     "metadata": {},
     "output_type": "execute_result"
    }
   ],
   "source": [
    "a[5:9]"
   ]
  },
  {
   "cell_type": "code",
   "execution_count": 37,
   "id": "c29f1098",
   "metadata": {},
   "outputs": [
    {
     "data": {
      "text/plain": [
       "'this is a'"
      ]
     },
     "execution_count": 37,
     "metadata": {},
     "output_type": "execute_result"
    }
   ],
   "source": [
    "a[:-7]"
   ]
  },
  {
   "cell_type": "markdown",
   "id": "cbabfda6",
   "metadata": {},
   "source": [
    "## SKIPPING ELEMENTS"
   ]
  },
  {
   "cell_type": "code",
   "execution_count": 38,
   "id": "16487db7",
   "metadata": {},
   "outputs": [],
   "source": [
    "# if you want to skip few elements use :: double colon\n",
    "# l[::] 1st one from where ,2nd one till when and 3rd one no. of elements to skip"
   ]
  },
  {
   "cell_type": "code",
   "execution_count": 42,
   "id": "cb62c586",
   "metadata": {},
   "outputs": [],
   "source": [
    "a=(\"this is a string\")"
   ]
  },
  {
   "cell_type": "code",
   "execution_count": 40,
   "id": "daff2101",
   "metadata": {},
   "outputs": [
    {
     "data": {
      "text/plain": [
       "'hs'"
      ]
     },
     "execution_count": 40,
     "metadata": {},
     "output_type": "execute_result"
    }
   ],
   "source": [
    "a[1:5:2]"
   ]
  },
  {
   "cell_type": "code",
   "execution_count": 43,
   "id": "48fbd8ed",
   "metadata": {},
   "outputs": [
    {
     "data": {
      "text/plain": [
       "'ti sasrn'"
      ]
     },
     "execution_count": 43,
     "metadata": {},
     "output_type": "execute_result"
    }
   ],
   "source": [
    "a[::2]"
   ]
  },
  {
   "cell_type": "code",
   "execution_count": 44,
   "id": "30d0cdce",
   "metadata": {},
   "outputs": [],
   "source": [
    "# to reverse ->> l[::-1]"
   ]
  },
  {
   "cell_type": "code",
   "execution_count": 45,
   "id": "a5ac8e93",
   "metadata": {},
   "outputs": [
    {
     "data": {
      "text/plain": [
       "'gnirts a si siht'"
      ]
     },
     "execution_count": 45,
     "metadata": {},
     "output_type": "execute_result"
    }
   ],
   "source": [
    "a[::-1]"
   ]
  },
  {
   "cell_type": "code",
   "execution_count": 50,
   "id": "d656829e",
   "metadata": {},
   "outputs": [
    {
     "data": {
      "text/plain": [
       "'git  ish'"
      ]
     },
     "execution_count": 50,
     "metadata": {},
     "output_type": "execute_result"
    }
   ],
   "source": [
    "a[-1:0:-2]"
   ]
  }
 ],
 "metadata": {
  "kernelspec": {
   "display_name": "Python 3",
   "language": "python",
   "name": "python3"
  },
  "language_info": {
   "codemirror_mode": {
    "name": "ipython",
    "version": 3
   },
   "file_extension": ".py",
   "mimetype": "text/x-python",
   "name": "python",
   "nbconvert_exporter": "python",
   "pygments_lexer": "ipython3",
   "version": "3.8.8"
  }
 },
 "nbformat": 4,
 "nbformat_minor": 5
}
