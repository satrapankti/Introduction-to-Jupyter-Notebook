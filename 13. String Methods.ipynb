{
 "cells": [
  {
   "cell_type": "markdown",
   "id": "6aec37cf",
   "metadata": {},
   "source": [
    "# STRING METHODS"
   ]
  },
  {
   "cell_type": "markdown",
   "id": "a218b1b5",
   "metadata": {},
   "source": [
    "## 1. STRIP"
   ]
  },
  {
   "cell_type": "code",
   "execution_count": 1,
   "id": "b1bd6d25",
   "metadata": {},
   "outputs": [],
   "source": [
    "# it removes whitespaces from the beginning and end of the string\n",
    "# ->> list.strip()"
   ]
  },
  {
   "cell_type": "code",
   "execution_count": 10,
   "id": "09094a4a",
   "metadata": {},
   "outputs": [],
   "source": [
    "a=\"  Hello I am a String.   \""
   ]
  },
  {
   "cell_type": "code",
   "execution_count": 11,
   "id": "5d182663",
   "metadata": {},
   "outputs": [
    {
     "data": {
      "text/plain": [
       "'Hello I am a String.'"
      ]
     },
     "execution_count": 11,
     "metadata": {},
     "output_type": "execute_result"
    }
   ],
   "source": [
    "a.strip()"
   ]
  },
  {
   "cell_type": "markdown",
   "id": "e70703e3",
   "metadata": {},
   "source": [
    "## 2. LOWER"
   ]
  },
  {
   "cell_type": "code",
   "execution_count": 12,
   "id": "69aa208f",
   "metadata": {},
   "outputs": [],
   "source": [
    "# it will convert the whole string in lower case i.e. small letters\n",
    "# ->> list.lower()"
   ]
  },
  {
   "cell_type": "code",
   "execution_count": 13,
   "id": "bcc196b3",
   "metadata": {},
   "outputs": [
    {
     "data": {
      "text/plain": [
       "'  hello i am a string.   '"
      ]
     },
     "execution_count": 13,
     "metadata": {},
     "output_type": "execute_result"
    }
   ],
   "source": [
    "a.lower()"
   ]
  },
  {
   "cell_type": "markdown",
   "id": "50cd3055",
   "metadata": {},
   "source": [
    "## 3. UPPER"
   ]
  },
  {
   "cell_type": "code",
   "execution_count": 14,
   "id": "03658e05",
   "metadata": {},
   "outputs": [],
   "source": [
    "# it will convert the whole string in UPPER case i.e. Capital letters\n",
    "# ->> list.upper()"
   ]
  },
  {
   "cell_type": "code",
   "execution_count": 15,
   "id": "01222a6c",
   "metadata": {},
   "outputs": [
    {
     "data": {
      "text/plain": [
       "'  HELLO I AM A STRING.   '"
      ]
     },
     "execution_count": 15,
     "metadata": {},
     "output_type": "execute_result"
    }
   ],
   "source": [
    "a.upper()"
   ]
  },
  {
   "cell_type": "markdown",
   "id": "5be54752",
   "metadata": {},
   "source": [
    "## 4. REPLACE"
   ]
  },
  {
   "cell_type": "code",
   "execution_count": 17,
   "id": "a3f88b1f",
   "metadata": {},
   "outputs": [],
   "source": [
    "# it will replace the whole word or letter whichever provided \n",
    "# ->> list.replace(\"_\",\"_\")\n",
    "# 1st is the word/letter to be replaced and 2nd is to be placed"
   ]
  },
  {
   "cell_type": "code",
   "execution_count": 18,
   "id": "397d0c0a",
   "metadata": {},
   "outputs": [],
   "source": [
    "b=\"I love Horror Movies\""
   ]
  },
  {
   "cell_type": "code",
   "execution_count": 19,
   "id": "cef015d9",
   "metadata": {},
   "outputs": [
    {
     "data": {
      "text/plain": [
       "'I hate Horror Movies'"
      ]
     },
     "execution_count": 19,
     "metadata": {},
     "output_type": "execute_result"
    }
   ],
   "source": [
    "b.replace(\"love\",\"hate\")"
   ]
  },
  {
   "cell_type": "code",
   "execution_count": 20,
   "id": "82ea60f8",
   "metadata": {},
   "outputs": [
    {
     "data": {
      "text/plain": [
       "'I luve Hurrur Muvies'"
      ]
     },
     "execution_count": 20,
     "metadata": {},
     "output_type": "execute_result"
    }
   ],
   "source": [
    "b.replace(\"o\",\"u\")"
   ]
  },
  {
   "cell_type": "code",
   "execution_count": 21,
   "id": "4993dcca",
   "metadata": {},
   "outputs": [],
   "source": [
    "l=\"i love to love each loveable person\""
   ]
  },
  {
   "cell_type": "code",
   "execution_count": 22,
   "id": "3016ee55",
   "metadata": {},
   "outputs": [
    {
     "data": {
      "text/plain": [
       "'i hate to hate each hateable person'"
      ]
     },
     "execution_count": 22,
     "metadata": {},
     "output_type": "execute_result"
    }
   ],
   "source": [
    "l.replace(\"love\",\"hate\")"
   ]
  },
  {
   "cell_type": "markdown",
   "id": "ecbf04e7",
   "metadata": {},
   "source": [
    "## 5. SPLIT"
   ]
  },
  {
   "cell_type": "code",
   "execution_count": 55,
   "id": "04b6f7f0",
   "metadata": {},
   "outputs": [],
   "source": [
    "# it splits the string into substrings by using separator\n",
    "# ->> list.split(\",\") or list.split()"
   ]
  },
  {
   "cell_type": "code",
   "execution_count": 46,
   "id": "dfc74efe",
   "metadata": {},
   "outputs": [],
   "source": [
    "c=\"sports like hockey,football,cricket are fun to watch.\""
   ]
  },
  {
   "cell_type": "code",
   "execution_count": 47,
   "id": "e2b3b84f",
   "metadata": {},
   "outputs": [
    {
     "data": {
      "text/plain": [
       "['sports', 'like', 'hockey,football,cricket', 'are', 'fun', 'to', 'watch.']"
      ]
     },
     "execution_count": 47,
     "metadata": {},
     "output_type": "execute_result"
    }
   ],
   "source": [
    "c.split()"
   ]
  },
  {
   "cell_type": "code",
   "execution_count": 49,
   "id": "27a1256e",
   "metadata": {},
   "outputs": [
    {
     "data": {
      "text/plain": [
       "['sports like hockey', 'football', 'cricket are fun to watch.']"
      ]
     },
     "execution_count": 49,
     "metadata": {},
     "output_type": "execute_result"
    }
   ],
   "source": [
    "c.split(\",\")"
   ]
  },
  {
   "cell_type": "markdown",
   "id": "044f98bc",
   "metadata": {},
   "source": [
    "# IN & NOT IN OPERATOR"
   ]
  },
  {
   "cell_type": "code",
   "execution_count": 56,
   "id": "e60ce0b2",
   "metadata": {},
   "outputs": [],
   "source": [
    "# it will check and give results in True/False if provided, the value/element is in or not in the list/string"
   ]
  },
  {
   "cell_type": "code",
   "execution_count": 57,
   "id": "76b106cc",
   "metadata": {},
   "outputs": [],
   "source": [
    "c=\"sports like hockey,football,cricket are fun to watch.\""
   ]
  },
  {
   "cell_type": "code",
   "execution_count": 58,
   "id": "b8284e77",
   "metadata": {},
   "outputs": [
    {
     "data": {
      "text/plain": [
       "True"
      ]
     },
     "execution_count": 58,
     "metadata": {},
     "output_type": "execute_result"
    }
   ],
   "source": [
    "\"football\" in c"
   ]
  },
  {
   "cell_type": "code",
   "execution_count": 59,
   "id": "8ff5a090",
   "metadata": {},
   "outputs": [
    {
     "data": {
      "text/plain": [
       "True"
      ]
     },
     "execution_count": 59,
     "metadata": {},
     "output_type": "execute_result"
    }
   ],
   "source": [
    "\"chess\" not in c"
   ]
  },
  {
   "cell_type": "code",
   "execution_count": 60,
   "id": "da239e0f",
   "metadata": {},
   "outputs": [
    {
     "data": {
      "text/plain": [
       "False"
      ]
     },
     "execution_count": 60,
     "metadata": {},
     "output_type": "execute_result"
    }
   ],
   "source": [
    "\"sports\" not in c"
   ]
  },
  {
   "cell_type": "code",
   "execution_count": 61,
   "id": "2c1d2ea9",
   "metadata": {},
   "outputs": [
    {
     "data": {
      "text/plain": [
       "False"
      ]
     },
     "execution_count": 61,
     "metadata": {},
     "output_type": "execute_result"
    }
   ],
   "source": [
    "\"tennis\" in c"
   ]
  },
  {
   "cell_type": "markdown",
   "id": "f34ca2b9",
   "metadata": {},
   "source": [
    "# BACKSLASH \\"
   ]
  },
  {
   "cell_type": "code",
   "execution_count": 65,
   "id": "a3196e84",
   "metadata": {},
   "outputs": [],
   "source": [
    "# it is used to distinguish between a string statement and string quotations\n",
    "# it will not change the beginning and end of string.\n",
    "# ->> \"abc\\\"__\\\"abc\""
   ]
  },
  {
   "cell_type": "code",
   "execution_count": 63,
   "id": "46bc95d5",
   "metadata": {},
   "outputs": [],
   "source": [
    "a=\"This is known as \\\"backslash\\\".\""
   ]
  },
  {
   "cell_type": "code",
   "execution_count": 64,
   "id": "c448ff24",
   "metadata": {},
   "outputs": [
    {
     "data": {
      "text/plain": [
       "'This is known as \"backslash\".'"
      ]
     },
     "execution_count": 64,
     "metadata": {},
     "output_type": "execute_result"
    }
   ],
   "source": [
    "a"
   ]
  },
  {
   "cell_type": "code",
   "execution_count": 66,
   "id": "91a4d808",
   "metadata": {},
   "outputs": [],
   "source": [
    "# \\t ->> this can be used to provide tab i.e space while using a print statement\n",
    "# \\n ->> this can be used to go to next line while using a print statement\n",
    "# the upper both operations are valid and well executed in a print statement only"
   ]
  },
  {
   "cell_type": "code",
   "execution_count": 77,
   "id": "f7764c67",
   "metadata": {},
   "outputs": [],
   "source": [
    "l=\"hello\\tworld\\t!!!\""
   ]
  },
  {
   "cell_type": "code",
   "execution_count": 78,
   "id": "d83a6626",
   "metadata": {},
   "outputs": [
    {
     "data": {
      "text/plain": [
       "'hello\\tworld\\t!!!'"
      ]
     },
     "execution_count": 78,
     "metadata": {},
     "output_type": "execute_result"
    }
   ],
   "source": [
    "l"
   ]
  },
  {
   "cell_type": "code",
   "execution_count": 79,
   "id": "936a16bb",
   "metadata": {},
   "outputs": [
    {
     "name": "stdout",
     "output_type": "stream",
     "text": [
      "hello\tworld\t!!!\n"
     ]
    }
   ],
   "source": [
    "print(l)"
   ]
  },
  {
   "cell_type": "code",
   "execution_count": 74,
   "id": "07b285c6",
   "metadata": {},
   "outputs": [],
   "source": [
    "l=\"hello\\nworld\\n!!!\""
   ]
  },
  {
   "cell_type": "code",
   "execution_count": 75,
   "id": "6dff75e8",
   "metadata": {},
   "outputs": [
    {
     "data": {
      "text/plain": [
       "'hello\\nworld\\n!!!'"
      ]
     },
     "execution_count": 75,
     "metadata": {},
     "output_type": "execute_result"
    }
   ],
   "source": [
    "l"
   ]
  },
  {
   "cell_type": "code",
   "execution_count": 76,
   "id": "5e9be60b",
   "metadata": {},
   "outputs": [
    {
     "name": "stdout",
     "output_type": "stream",
     "text": [
      "hello\n",
      "world\n",
      "!!!\n"
     ]
    }
   ],
   "source": [
    "print(l)"
   ]
  }
 ],
 "metadata": {
  "kernelspec": {
   "display_name": "Python 3",
   "language": "python",
   "name": "python3"
  },
  "language_info": {
   "codemirror_mode": {
    "name": "ipython",
    "version": 3
   },
   "file_extension": ".py",
   "mimetype": "text/x-python",
   "name": "python",
   "nbconvert_exporter": "python",
   "pygments_lexer": "ipython3",
   "version": "3.8.8"
  }
 },
 "nbformat": 4,
 "nbformat_minor": 5
}
