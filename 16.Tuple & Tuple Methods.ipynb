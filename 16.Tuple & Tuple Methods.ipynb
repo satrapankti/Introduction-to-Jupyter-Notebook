{
 "cells": [
  {
   "cell_type": "markdown",
   "id": "291b5136",
   "metadata": {},
   "source": [
    "# TUPLE"
   ]
  },
  {
   "cell_type": "code",
   "execution_count": 1,
   "id": "03958d35",
   "metadata": {},
   "outputs": [],
   "source": [
    "# it is a collection of ordered data items which can be of different data types\n",
    "# they are immutable i.e. it cannot be changed,modified\n",
    "# they are defined by paranthesis () i.e. circle brackets"
   ]
  },
  {
   "cell_type": "code",
   "execution_count": 2,
   "id": "44a2b8ed",
   "metadata": {},
   "outputs": [],
   "source": [
    "a=(1,2,5,6,\"hello\",True)"
   ]
  },
  {
   "cell_type": "code",
   "execution_count": 4,
   "id": "cd87e505",
   "metadata": {},
   "outputs": [
    {
     "data": {
      "text/plain": [
       "(1, 2, 5, 6, 'hello', True)"
      ]
     },
     "execution_count": 4,
     "metadata": {},
     "output_type": "execute_result"
    }
   ],
   "source": [
    "a"
   ]
  },
  {
   "cell_type": "code",
   "execution_count": 3,
   "id": "4e98c3ed",
   "metadata": {},
   "outputs": [
    {
     "data": {
      "text/plain": [
       "tuple"
      ]
     },
     "execution_count": 3,
     "metadata": {},
     "output_type": "execute_result"
    }
   ],
   "source": [
    "type(a)"
   ]
  },
  {
   "cell_type": "markdown",
   "id": "fb949aec",
   "metadata": {},
   "source": [
    "###  TUPLE INDEXING,SLICING,SKIPPING ELEMENTS"
   ]
  },
  {
   "cell_type": "code",
   "execution_count": 2,
   "id": "23b94033",
   "metadata": {},
   "outputs": [],
   "source": [
    "# starts with 0th index and ends with -1 index i.e negative indexing (same as list) ->> tuple[_]\n",
    "# slicing is same as list by ->> tuple[_:_] ->> colon operator :\n",
    "# skipping elements is same as list by ->> tuple[_:_:_] ->> double colon operator ::"
   ]
  },
  {
   "cell_type": "markdown",
   "id": "a305eb13",
   "metadata": {},
   "source": [
    "# TUPLE METHODS"
   ]
  },
  {
   "cell_type": "code",
   "execution_count": 6,
   "id": "c3830b06",
   "metadata": {},
   "outputs": [],
   "source": [
    "a=(10,20,30,70,90,50,40,10,60,90,20,10,25,10)"
   ]
  },
  {
   "cell_type": "markdown",
   "id": "3288ba8d",
   "metadata": {},
   "source": [
    "## 1. LENGTH"
   ]
  },
  {
   "cell_type": "code",
   "execution_count": 7,
   "id": "f665a704",
   "metadata": {},
   "outputs": [],
   "source": [
    "# it will calculate the no. of elements in the tuple\n",
    "# ->> len(tuple)"
   ]
  },
  {
   "cell_type": "code",
   "execution_count": 8,
   "id": "6fe89dd9",
   "metadata": {},
   "outputs": [
    {
     "data": {
      "text/plain": [
       "14"
      ]
     },
     "execution_count": 8,
     "metadata": {},
     "output_type": "execute_result"
    }
   ],
   "source": [
    "len(a)"
   ]
  },
  {
   "cell_type": "markdown",
   "id": "2d861df5",
   "metadata": {},
   "source": [
    "## 2. COUNT"
   ]
  },
  {
   "cell_type": "code",
   "execution_count": 3,
   "id": "2b441cbf",
   "metadata": {},
   "outputs": [],
   "source": [
    "# it will count the no. of times a specified element is repeated \n",
    "# will show 0 if the element is not in tuple\n",
    "# ->> tuple.count(_)"
   ]
  },
  {
   "cell_type": "code",
   "execution_count": 11,
   "id": "b6d96468",
   "metadata": {},
   "outputs": [
    {
     "data": {
      "text/plain": [
       "4"
      ]
     },
     "execution_count": 11,
     "metadata": {},
     "output_type": "execute_result"
    }
   ],
   "source": [
    "a.count(10)"
   ]
  },
  {
   "cell_type": "markdown",
   "id": "cb16d1cd",
   "metadata": {},
   "source": [
    "## 3. INDEX"
   ]
  },
  {
   "cell_type": "code",
   "execution_count": 19,
   "id": "bbdba75b",
   "metadata": {},
   "outputs": [],
   "source": [
    "# it will show the index of the specified element located\n",
    "# it will show the 1st index nearest\n",
    "# will show error if the element is not in tuple\n",
    "# ->> tuple.index(_)"
   ]
  },
  {
   "cell_type": "code",
   "execution_count": 13,
   "id": "04f5873f",
   "metadata": {},
   "outputs": [
    {
     "data": {
      "text/plain": [
       "4"
      ]
     },
     "execution_count": 13,
     "metadata": {},
     "output_type": "execute_result"
    }
   ],
   "source": [
    "a.index(90)"
   ]
  },
  {
   "cell_type": "markdown",
   "id": "2d505733",
   "metadata": {},
   "source": [
    "## 4. DELETE"
   ]
  },
  {
   "cell_type": "code",
   "execution_count": 16,
   "id": "4ce028d1",
   "metadata": {},
   "outputs": [],
   "source": [
    "# it will delete the whole tuple\n",
    "# del tuple"
   ]
  },
  {
   "cell_type": "code",
   "execution_count": 17,
   "id": "974bca25",
   "metadata": {},
   "outputs": [],
   "source": [
    "del a"
   ]
  },
  {
   "cell_type": "code",
   "execution_count": 18,
   "id": "7918542d",
   "metadata": {},
   "outputs": [
    {
     "ename": "NameError",
     "evalue": "name 'a' is not defined",
     "output_type": "error",
     "traceback": [
      "\u001b[1;31m---------------------------------------------------------------------------\u001b[0m",
      "\u001b[1;31mNameError\u001b[0m                                 Traceback (most recent call last)",
      "\u001b[1;32m<ipython-input-18-3f786850e387>\u001b[0m in \u001b[0;36m<module>\u001b[1;34m\u001b[0m\n\u001b[1;32m----> 1\u001b[1;33m \u001b[0ma\u001b[0m\u001b[1;33m\u001b[0m\u001b[1;33m\u001b[0m\u001b[0m\n\u001b[0m",
      "\u001b[1;31mNameError\u001b[0m: name 'a' is not defined"
     ]
    }
   ],
   "source": [
    "a"
   ]
  }
 ],
 "metadata": {
  "kernelspec": {
   "display_name": "Python 3",
   "language": "python",
   "name": "python3"
  },
  "language_info": {
   "codemirror_mode": {
    "name": "ipython",
    "version": 3
   },
   "file_extension": ".py",
   "mimetype": "text/x-python",
   "name": "python",
   "nbconvert_exporter": "python",
   "pygments_lexer": "ipython3",
   "version": "3.8.8"
  }
 },
 "nbformat": 4,
 "nbformat_minor": 5
}
