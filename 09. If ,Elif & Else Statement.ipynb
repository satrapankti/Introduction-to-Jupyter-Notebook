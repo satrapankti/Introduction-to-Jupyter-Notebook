{
 "cells": [
  {
   "cell_type": "markdown",
   "id": "36828e38",
   "metadata": {},
   "source": [
    "# IF ,ELIF & ELSE STATEMENT"
   ]
  },
  {
   "cell_type": "code",
   "execution_count": 1,
   "id": "c4afe994",
   "metadata": {},
   "outputs": [],
   "source": [
    "# syntax format ->>\n",
    "# if(condition 1):\n",
    "#     statement 1\n",
    "# elif (condition 2):\n",
    "#     statement 2\n",
    "# else:\n",
    "#     statement 3"
   ]
  },
  {
   "cell_type": "code",
   "execution_count": 2,
   "id": "8f85acf8",
   "metadata": {},
   "outputs": [],
   "source": [
    "# colon : after a condition is must and the statement should continue in next line below the condition i.e. 4 tab space"
   ]
  },
  {
   "cell_type": "code",
   "execution_count": 45,
   "id": "86165cfe",
   "metadata": {},
   "outputs": [],
   "source": [
    "# if the statement's condition is not satisfied by any ways the code will not execute"
   ]
  },
  {
   "cell_type": "code",
   "execution_count": 46,
   "id": "fe3c232f",
   "metadata": {},
   "outputs": [],
   "source": [
    "x=5"
   ]
  },
  {
   "cell_type": "code",
   "execution_count": 48,
   "id": "c52c5915",
   "metadata": {},
   "outputs": [],
   "source": [
    "if(x==10):\n",
    "    print(\"x is equal to 10.\")"
   ]
  },
  {
   "cell_type": "code",
   "execution_count": 32,
   "id": "7fc0d806",
   "metadata": {},
   "outputs": [],
   "source": [
    "x=4"
   ]
  },
  {
   "cell_type": "code",
   "execution_count": 33,
   "id": "5d6288b2",
   "metadata": {},
   "outputs": [
    {
     "name": "stdout",
     "output_type": "stream",
     "text": [
      "x is less than 5.\n"
     ]
    }
   ],
   "source": [
    "if (x<5):\n",
    "    print(\"x is less than 5.\")\n",
    "else:\n",
    "    print(\"x is greater than 10.\")"
   ]
  },
  {
   "cell_type": "code",
   "execution_count": 43,
   "id": "fe853c2a",
   "metadata": {},
   "outputs": [],
   "source": [
    "x=8"
   ]
  },
  {
   "cell_type": "code",
   "execution_count": 44,
   "id": "31d1bc9c",
   "metadata": {},
   "outputs": [
    {
     "name": "stdout",
     "output_type": "stream",
     "text": [
      "x is between 5 & 10.\n"
     ]
    }
   ],
   "source": [
    "if(x<6):\n",
    "    print(\"x is less than 6.\")\n",
    "elif ((x>5)and (x<10)):\n",
    "    print(\"x is between 5 & 10.\")\n",
    "else:\n",
    "    print(\"x is none of the above.\")"
   ]
  },
  {
   "cell_type": "code",
   "execution_count": 22,
   "id": "ba5b3729",
   "metadata": {},
   "outputs": [],
   "source": [
    "# if no. is divided by 2 -> it is even.\n",
    "# if no. is didvided by 5 or 7 ->> it can be divided.\n",
    "# if no. is not divisible ->> it cannot be divided."
   ]
  },
  {
   "cell_type": "code",
   "execution_count": 28,
   "id": "d814c558",
   "metadata": {},
   "outputs": [],
   "source": [
    "x=11"
   ]
  },
  {
   "cell_type": "code",
   "execution_count": 29,
   "id": "d9e92bd8",
   "metadata": {},
   "outputs": [
    {
     "name": "stdout",
     "output_type": "stream",
     "text": [
      "x cannot be divided.\n"
     ]
    }
   ],
   "source": [
    "if (x%2==0):\n",
    "    print(\"it is a even no.\")\n",
    "elif ((x%5==0) or (x%7==0)):\n",
    "    print(\"x can be divided.\")\n",
    "else:\n",
    "    print(\"x cannot be divided.\")"
   ]
  }
 ],
 "metadata": {
  "kernelspec": {
   "display_name": "Python 3",
   "language": "python",
   "name": "python3"
  },
  "language_info": {
   "codemirror_mode": {
    "name": "ipython",
    "version": 3
   },
   "file_extension": ".py",
   "mimetype": "text/x-python",
   "name": "python",
   "nbconvert_exporter": "python",
   "pygments_lexer": "ipython3",
   "version": "3.8.8"
  }
 },
 "nbformat": 4,
 "nbformat_minor": 5
}
