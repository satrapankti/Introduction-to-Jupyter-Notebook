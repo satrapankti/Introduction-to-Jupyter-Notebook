{
 "cells": [
  {
   "cell_type": "markdown",
   "id": "7475b15e",
   "metadata": {},
   "source": [
    "# ARITHMETIC OPERATIONS"
   ]
  },
  {
   "cell_type": "markdown",
   "id": "b5e7db62",
   "metadata": {},
   "source": [
    "## 1. Addition "
   ]
  },
  {
   "cell_type": "code",
   "execution_count": 1,
   "id": "55b9887f",
   "metadata": {},
   "outputs": [],
   "source": [
    "# no. + no. "
   ]
  },
  {
   "cell_type": "code",
   "execution_count": 2,
   "id": "a59b3dbe",
   "metadata": {},
   "outputs": [
    {
     "data": {
      "text/plain": [
       "3"
      ]
     },
     "execution_count": 2,
     "metadata": {},
     "output_type": "execute_result"
    }
   ],
   "source": [
    "1+2"
   ]
  },
  {
   "cell_type": "markdown",
   "id": "f74e9d53",
   "metadata": {},
   "source": [
    "## 2. Subtraction"
   ]
  },
  {
   "cell_type": "code",
   "execution_count": 3,
   "id": "57acf4db",
   "metadata": {},
   "outputs": [],
   "source": [
    "#  no. - no."
   ]
  },
  {
   "cell_type": "code",
   "execution_count": 4,
   "id": "7458dcc9",
   "metadata": {},
   "outputs": [
    {
     "data": {
      "text/plain": [
       "1"
      ]
     },
     "execution_count": 4,
     "metadata": {},
     "output_type": "execute_result"
    }
   ],
   "source": [
    "2-1"
   ]
  },
  {
   "cell_type": "markdown",
   "id": "a2ad6465",
   "metadata": {},
   "source": [
    "## 3. Multiplication"
   ]
  },
  {
   "cell_type": "code",
   "execution_count": 5,
   "id": "148d169c",
   "metadata": {},
   "outputs": [],
   "source": [
    "#  no. * no."
   ]
  },
  {
   "cell_type": "code",
   "execution_count": 6,
   "id": "51a92d69",
   "metadata": {},
   "outputs": [
    {
     "data": {
      "text/plain": [
       "6"
      ]
     },
     "execution_count": 6,
     "metadata": {},
     "output_type": "execute_result"
    }
   ],
   "source": [
    "2*3"
   ]
  },
  {
   "cell_type": "markdown",
   "id": "083eaeb1",
   "metadata": {},
   "source": [
    "## 4. Division"
   ]
  },
  {
   "cell_type": "code",
   "execution_count": 7,
   "id": "dcb7732c",
   "metadata": {},
   "outputs": [],
   "source": [
    "# no. / no."
   ]
  },
  {
   "cell_type": "code",
   "execution_count": 8,
   "id": "c160c742",
   "metadata": {},
   "outputs": [
    {
     "data": {
      "text/plain": [
       "1.5"
      ]
     },
     "execution_count": 8,
     "metadata": {},
     "output_type": "execute_result"
    }
   ],
   "source": [
    "3/2"
   ]
  },
  {
   "cell_type": "markdown",
   "id": "8629b992",
   "metadata": {},
   "source": [
    "## 5. Exponention (Power)"
   ]
  },
  {
   "cell_type": "code",
   "execution_count": 14,
   "id": "8ed103f2",
   "metadata": {},
   "outputs": [],
   "source": [
    "# no. ** no. -> a**n -> where 1st no. is a and 2nd no. is power below is -> 2*2*2 i.e. 2^3 or a^n\n",
    "# can be done either way -> pow(no. , no.) -> pow(a,n)"
   ]
  },
  {
   "cell_type": "code",
   "execution_count": 15,
   "id": "e1600a38",
   "metadata": {},
   "outputs": [
    {
     "data": {
      "text/plain": [
       "8"
      ]
     },
     "execution_count": 15,
     "metadata": {},
     "output_type": "execute_result"
    }
   ],
   "source": [
    "2**3"
   ]
  },
  {
   "cell_type": "code",
   "execution_count": 16,
   "id": "f0227aa2",
   "metadata": {},
   "outputs": [
    {
     "data": {
      "text/plain": [
       "8"
      ]
     },
     "execution_count": 16,
     "metadata": {},
     "output_type": "execute_result"
    }
   ],
   "source": [
    "pow(2,3)"
   ]
  },
  {
   "cell_type": "markdown",
   "id": "216d86a4",
   "metadata": {},
   "source": [
    "## 6. Quotient "
   ]
  },
  {
   "cell_type": "code",
   "execution_count": 17,
   "id": "4d028bbe",
   "metadata": {},
   "outputs": [],
   "source": [
    "# no. // no. -> where 1st no. is dividend and 2nd no. is divisor"
   ]
  },
  {
   "cell_type": "code",
   "execution_count": 18,
   "id": "66ebc0af",
   "metadata": {},
   "outputs": [
    {
     "data": {
      "text/plain": [
       "5"
      ]
     },
     "execution_count": 18,
     "metadata": {},
     "output_type": "execute_result"
    }
   ],
   "source": [
    "16//3"
   ]
  },
  {
   "cell_type": "markdown",
   "id": "9ed49736",
   "metadata": {},
   "source": [
    "## 7. Remainder (Modulus)"
   ]
  },
  {
   "cell_type": "code",
   "execution_count": 19,
   "id": "c9401df4",
   "metadata": {},
   "outputs": [],
   "source": [
    "# no. % no. -> where 1st no. is dividend and 2nd no. is divisor"
   ]
  },
  {
   "cell_type": "code",
   "execution_count": 20,
   "id": "d42786f1",
   "metadata": {},
   "outputs": [
    {
     "data": {
      "text/plain": [
       "1"
      ]
     },
     "execution_count": 20,
     "metadata": {},
     "output_type": "execute_result"
    }
   ],
   "source": [
    "16%3"
   ]
  },
  {
   "cell_type": "code",
   "execution_count": 21,
   "id": "b937f9c4",
   "metadata": {},
   "outputs": [],
   "source": [
    "#       5\n",
    "#   3/ 16\n",
    "#     -15\n",
    "#     =1"
   ]
  },
  {
   "cell_type": "code",
   "execution_count": 24,
   "id": "101509c1",
   "metadata": {},
   "outputs": [],
   "source": [
    "# 3 -> divisor, 16 -> dividend, 5 -> quotient, 1 -> remainder \n",
    "# for the above example"
   ]
  },
  {
   "cell_type": "markdown",
   "id": "731f41d4",
   "metadata": {},
   "source": [
    "### Dividend = [ Divisor * Quotient ] + Remainder"
   ]
  },
  {
   "cell_type": "code",
   "execution_count": 25,
   "id": "bb681f1c",
   "metadata": {},
   "outputs": [],
   "source": [
    "# to check if the solution is correct could be check with the help of above formula"
   ]
  },
  {
   "cell_type": "markdown",
   "id": "a0be510d",
   "metadata": {},
   "source": [
    "# VARIABLES"
   ]
  },
  {
   "cell_type": "code",
   "execution_count": 1,
   "id": "bcf5fe77",
   "metadata": {},
   "outputs": [],
   "source": [
    "# it should always start with letter and _  i.e. -> A to Z or a to z and underscroll\n",
    "# it should only contain numbers, letters or underscroll_\n",
    "# note: the case of the alphabet also matter so must check on capital and small letters"
   ]
  },
  {
   "cell_type": "code",
   "execution_count": 30,
   "id": "6e48db4f",
   "metadata": {},
   "outputs": [],
   "source": [
    "var=1 "
   ]
  },
  {
   "cell_type": "code",
   "execution_count": 28,
   "id": "bd3d0d70",
   "metadata": {},
   "outputs": [
    {
     "data": {
      "text/plain": [
       "1"
      ]
     },
     "execution_count": 28,
     "metadata": {},
     "output_type": "execute_result"
    }
   ],
   "source": [
    "var"
   ]
  },
  {
   "cell_type": "code",
   "execution_count": 31,
   "id": "4dfae919",
   "metadata": {},
   "outputs": [],
   "source": [
    "var1= 2"
   ]
  },
  {
   "cell_type": "code",
   "execution_count": 32,
   "id": "2547f867",
   "metadata": {},
   "outputs": [
    {
     "data": {
      "text/plain": [
       "2"
      ]
     },
     "execution_count": 32,
     "metadata": {},
     "output_type": "execute_result"
    }
   ],
   "source": [
    "var1"
   ]
  },
  {
   "cell_type": "code",
   "execution_count": 2,
   "id": "4b1b38e2",
   "metadata": {},
   "outputs": [],
   "source": [
    "_var=5"
   ]
  },
  {
   "cell_type": "code",
   "execution_count": 3,
   "id": "f082672e",
   "metadata": {},
   "outputs": [
    {
     "data": {
      "text/plain": [
       "5"
      ]
     },
     "execution_count": 3,
     "metadata": {},
     "output_type": "execute_result"
    }
   ],
   "source": [
    "_var"
   ]
  },
  {
   "cell_type": "code",
   "execution_count": 35,
   "id": "1ee71f99",
   "metadata": {},
   "outputs": [],
   "source": [
    "x=1 "
   ]
  },
  {
   "cell_type": "code",
   "execution_count": 37,
   "id": "e4da6539",
   "metadata": {},
   "outputs": [],
   "source": [
    "y=2"
   ]
  },
  {
   "cell_type": "code",
   "execution_count": 38,
   "id": "d34eaca7",
   "metadata": {},
   "outputs": [
    {
     "data": {
      "text/plain": [
       "3"
      ]
     },
     "execution_count": 38,
     "metadata": {},
     "output_type": "execute_result"
    }
   ],
   "source": [
    "x+y"
   ]
  }
 ],
 "metadata": {
  "kernelspec": {
   "display_name": "Python 3",
   "language": "python",
   "name": "python3"
  },
  "language_info": {
   "codemirror_mode": {
    "name": "ipython",
    "version": 3
   },
   "file_extension": ".py",
   "mimetype": "text/x-python",
   "name": "python",
   "nbconvert_exporter": "python",
   "pygments_lexer": "ipython3",
   "version": "3.8.8"
  }
 },
 "nbformat": 4,
 "nbformat_minor": 5
}
